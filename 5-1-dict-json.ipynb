{
 "cells": [
  {
   "cell_type": "markdown",
   "id": "0b449ad5-adfe-4725-adcf-2e4547c484a9",
   "metadata": {},
   "source": [
    "# dict 형"
   ]
  },
  {
   "cell_type": "code",
   "execution_count": 1,
   "id": "b38990fd-70cf-4570-8176-b5dfee3e64ad",
   "metadata": {},
   "outputs": [
    {
     "data": {
      "text/plain": [
       "{'Name': 'pinkwink', 'Age': 'None', 'Class': ['beginner', 'blog']}"
      ]
     },
     "execution_count": 1,
     "metadata": {},
     "output_type": "execute_result"
    }
   ],
   "source": [
    "dict_sample = {'Name': 'pinkwink', 'Age': 'None', 'Class': ['beginner', 'blog']}\n",
    "dict_sample"
   ]
  },
  {
   "cell_type": "code",
   "execution_count": 2,
   "id": "9d7ab725-e459-460d-878e-206ae293a2cc",
   "metadata": {},
   "outputs": [
    {
     "data": {
      "text/plain": [
       "dict_keys(['Name', 'Age', 'Class'])"
      ]
     },
     "execution_count": 2,
     "metadata": {},
     "output_type": "execute_result"
    }
   ],
   "source": [
    "# key 값\n",
    "dict_sample.keys()"
   ]
  },
  {
   "cell_type": "code",
   "execution_count": 3,
   "id": "160c870b-891e-44c5-8145-ce4b6673f98d",
   "metadata": {},
   "outputs": [
    {
     "data": {
      "text/plain": [
       "dict_values(['pinkwink', 'None', ['beginner', 'blog']])"
      ]
     },
     "execution_count": 3,
     "metadata": {},
     "output_type": "execute_result"
    }
   ],
   "source": [
    "# value 값\n",
    "dict_sample.values()"
   ]
  },
  {
   "cell_type": "code",
   "execution_count": 4,
   "id": "6841be26-005a-4abc-9e46-3e49ffd6ecf5",
   "metadata": {},
   "outputs": [
    {
     "data": {
      "text/plain": [
       "['beginner', 'blog']"
      ]
     },
     "execution_count": 4,
     "metadata": {},
     "output_type": "execute_result"
    }
   ],
   "source": [
    "# key 의 value 값\n",
    "dict_sample['Class']"
   ]
  },
  {
   "cell_type": "code",
   "execution_count": 5,
   "id": "5b16bc90-b32f-4c53-85d9-ae8112cb84e9",
   "metadata": {},
   "outputs": [
    {
     "data": {
      "text/plain": [
       "'pinkwink'"
      ]
     },
     "execution_count": 5,
     "metadata": {},
     "output_type": "execute_result"
    }
   ],
   "source": [
    "# key 의 value 값\n",
    "dict_sample.get('Name')"
   ]
  },
  {
   "cell_type": "code",
   "execution_count": 6,
   "id": "b07eaab4-e61a-44ca-98db-ee5b2f219fb2",
   "metadata": {},
   "outputs": [
    {
     "data": {
      "text/plain": [
       "'None'"
      ]
     },
     "execution_count": 6,
     "metadata": {},
     "output_type": "execute_result"
    }
   ],
   "source": [
    "# key의 value 값이 있으면 value, 없으면 nothing\n",
    "dict_sample.get('Age', 'nothing')"
   ]
  },
  {
   "cell_type": "code",
   "execution_count": 7,
   "id": "f28a9b0d-ef18-48fc-bb92-20a2a508a35c",
   "metadata": {},
   "outputs": [
    {
     "data": {
      "text/plain": [
       "'nothing'"
      ]
     },
     "execution_count": 7,
     "metadata": {},
     "output_type": "execute_result"
    }
   ],
   "source": [
    "dict_sample.get('room', 'nothing')"
   ]
  },
  {
   "cell_type": "markdown",
   "id": "c209013d-7c78-4739-95f4-2a6707b8c4b1",
   "metadata": {},
   "source": [
    "# json"
   ]
  },
  {
   "cell_type": "code",
   "execution_count": 8,
   "id": "e01d58e9-f20a-4503-84ad-3b966a8bc8bf",
   "metadata": {},
   "outputs": [],
   "source": [
    "import json"
   ]
  },
  {
   "cell_type": "code",
   "execution_count": 9,
   "id": "1afe8f94-72e8-41ac-a05e-0c6af2f7685e",
   "metadata": {},
   "outputs": [],
   "source": [
    "customer = {\n",
    "    'id': '0001',\n",
    "    'name': 'john',\n",
    "    'history': [\n",
    "               {'date': '2023-01-01', 'log': True},\n",
    "               {'date': '2023-01-02', 'log': False}\n",
    "           ]\n",
    "}"
   ]
  },
  {
   "cell_type": "code",
   "execution_count": 10,
   "id": "f3fc14b6-a4b3-4992-ae9f-0a2b620adcb4",
   "metadata": {},
   "outputs": [
    {
     "name": "stdout",
     "output_type": "stream",
     "text": [
      "{\n",
      "    \"id\": \"0001\",\n",
      "    \"name\": \"john\",\n",
      "    \"history\": [\n",
      "        {\n",
      "            \"date\": \"2023-01-01\",\n",
      "            \"log\": true\n",
      "        },\n",
      "        {\n",
      "            \"date\": \"2023-01-02\",\n",
      "            \"log\": false\n",
      "        }\n",
      "    ]\n",
      "}\n"
     ]
    }
   ],
   "source": [
    "json_test = json.dumps(customer, indent=4, ensure_ascii=False)\n",
    "print(json_test)"
   ]
  }
 ],
 "metadata": {
  "kernelspec": {
   "display_name": "Python 3 (ipykernel)",
   "language": "python",
   "name": "python3"
  },
  "language_info": {
   "codemirror_mode": {
    "name": "ipython",
    "version": 3
   },
   "file_extension": ".py",
   "mimetype": "text/x-python",
   "name": "python",
   "nbconvert_exporter": "python",
   "pygments_lexer": "ipython3",
   "version": "3.9.13"
  }
 },
 "nbformat": 4,
 "nbformat_minor": 5
}

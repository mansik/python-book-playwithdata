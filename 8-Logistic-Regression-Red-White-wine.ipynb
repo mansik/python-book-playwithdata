{
 "cells": [
  {
   "cell_type": "markdown",
   "id": "a901daad-1575-4076-91fa-26072f951523",
   "metadata": {},
   "source": [
    "# 레드 와인, 화이트 와인 분류하기"
   ]
  },
  {
   "cell_type": "code",
   "execution_count": 1,
   "id": "08e9ca9e-33da-48c0-90a4-870dec6b0713",
   "metadata": {},
   "outputs": [],
   "source": [
    "import pandas as pd"
   ]
  }
 ],
 "metadata": {
  "kernelspec": {
   "display_name": "Python 3 (ipykernel)",
   "language": "python",
   "name": "python3"
  },
  "language_info": {
   "codemirror_mode": {
    "name": "ipython",
    "version": 3
   },
   "file_extension": ".py",
   "mimetype": "text/x-python",
   "name": "python",
   "nbconvert_exporter": "python",
   "pygments_lexer": "ipython3",
   "version": "3.9.13"
  }
 },
 "nbformat": 4,
 "nbformat_minor": 5
}

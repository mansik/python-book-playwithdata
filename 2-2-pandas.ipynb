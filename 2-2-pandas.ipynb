{
 "cells": [
  {
   "cell_type": "markdown",
   "id": "db352daa-833e-46b3-a09e-af2d8b33c632",
   "metadata": {},
   "source": [
    "# pandas"
   ]
  },
  {
   "cell_type": "markdown",
   "id": "ebdead5c-534d-4a34-945d-c72645ca300f",
   "metadata": {},
   "source": [
    "- 사이트\n",
    "- [10 minutes to pandas](https://pandas.pydata.org/docs/user_guide/10min.html)"
   ]
  },
  {
   "cell_type": "code",
   "execution_count": 68,
   "id": "bddc98ab-5127-4268-9148-611376b78fed",
   "metadata": {},
   "outputs": [],
   "source": [
    "import pandas as pd\n",
    "import numpy as np"
   ]
  },
  {
   "cell_type": "markdown",
   "id": "18b4b294-0413-4d0e-8f04-97c06d2e51d6",
   "metadata": {},
   "source": [
    "## Pandas Series \n",
    "\n",
    "- Pandas Series like a columns in a Table\n",
    "- It is a one-dimensional array holding data of any type."
   ]
  },
  {
   "cell_type": "code",
   "execution_count": 69,
   "id": "00fdd179-ed98-4215-9272-d2bfb55b0010",
   "metadata": {},
   "outputs": [
    {
     "data": {
      "text/plain": [
       "0    1\n",
       "1    2\n",
       "2    c\n",
       "dtype: object"
      ]
     },
     "execution_count": 69,
     "metadata": {},
     "output_type": "execute_result"
    }
   ],
   "source": [
    "d = [1, 2, 'c']\n",
    "ser = pd.Series(data=d)\n",
    "ser"
   ]
  },
  {
   "cell_type": "code",
   "execution_count": 70,
   "id": "d766f32a-9f03-4d54-93f2-40f125b7bd4a",
   "metadata": {},
   "outputs": [
    {
     "data": {
      "text/plain": [
       "a    1\n",
       "b    2\n",
       "c    3\n",
       "dtype: int64"
      ]
     },
     "execution_count": 70,
     "metadata": {},
     "output_type": "execute_result"
    }
   ],
   "source": [
    "d = {'a': 1, 'b': 2, 'c': 3}\n",
    "ser = pd.Series(data=d, index=['a', 'b', 'c'])\n",
    "ser"
   ]
  },
  {
   "cell_type": "code",
   "execution_count": 71,
   "id": "756b51d1-d2ae-43cd-9618-01ef746ec348",
   "metadata": {},
   "outputs": [
    {
     "data": {
      "text/plain": [
       "DatetimeIndex(['2023-01-01', '2023-01-02', '2023-01-03', '2023-01-04',\n",
       "               '2023-01-05', '2023-01-06'],\n",
       "              dtype='datetime64[ns]', freq='D')"
      ]
     },
     "execution_count": 71,
     "metadata": {},
     "output_type": "execute_result"
    }
   ],
   "source": [
    "dates = pd.date_range('20230101', periods=6)\n",
    "dates"
   ]
  },
  {
   "cell_type": "markdown",
   "id": "9dbd62ac-343b-4344-a8ca-22300765021d",
   "metadata": {},
   "source": [
    "## pandas DataFrame\n",
    "\n",
    "- A Pandas DataFrame is a 2 dimensional data structure, like a 2 dimensional array, or a table with rows and columns."
   ]
  },
  {
   "cell_type": "code",
   "execution_count": 72,
   "id": "701afb5e-aa47-449f-9ad6-1a5059521503",
   "metadata": {},
   "outputs": [
    {
     "data": {
      "text/plain": [
       "array([[ 0.15443702, -0.66550288, -0.7764728 ,  1.06500526],\n",
       "       [-1.18621741,  0.39633308,  0.98580476,  1.12955402],\n",
       "       [ 3.63172797, -0.13568625, -0.38281244,  2.29434068],\n",
       "       [ 0.02962137,  1.52552808,  0.80056558, -0.98455915],\n",
       "       [ 0.21780752,  1.0978452 , -0.01511833,  0.41818727],\n",
       "       [ 0.2282557 ,  2.78066149,  0.51777441,  0.14982216]])"
      ]
     },
     "execution_count": 72,
     "metadata": {},
     "output_type": "execute_result"
    }
   ],
   "source": [
    "# 6rows, 4cols array(=6 by 4 array) : shaped floating-point \n",
    "np.random.randn(6, 4)"
   ]
  },
  {
   "cell_type": "code",
   "execution_count": 73,
   "id": "6aceca60-cb3d-4ee9-8b57-f5cd7e804f1b",
   "metadata": {},
   "outputs": [
    {
     "data": {
      "text/html": [
       "<div>\n",
       "<style scoped>\n",
       "    .dataframe tbody tr th:only-of-type {\n",
       "        vertical-align: middle;\n",
       "    }\n",
       "\n",
       "    .dataframe tbody tr th {\n",
       "        vertical-align: top;\n",
       "    }\n",
       "\n",
       "    .dataframe thead th {\n",
       "        text-align: right;\n",
       "    }\n",
       "</style>\n",
       "<table border=\"1\" class=\"dataframe\">\n",
       "  <thead>\n",
       "    <tr style=\"text-align: right;\">\n",
       "      <th></th>\n",
       "      <th>A</th>\n",
       "      <th>B</th>\n",
       "      <th>C</th>\n",
       "      <th>D</th>\n",
       "    </tr>\n",
       "  </thead>\n",
       "  <tbody>\n",
       "    <tr>\n",
       "      <th>2023-01-01</th>\n",
       "      <td>-0.955547</td>\n",
       "      <td>0.298039</td>\n",
       "      <td>-1.146234</td>\n",
       "      <td>0.758017</td>\n",
       "    </tr>\n",
       "    <tr>\n",
       "      <th>2023-01-02</th>\n",
       "      <td>-0.345336</td>\n",
       "      <td>-0.865250</td>\n",
       "      <td>-1.887181</td>\n",
       "      <td>0.295724</td>\n",
       "    </tr>\n",
       "    <tr>\n",
       "      <th>2023-01-03</th>\n",
       "      <td>0.081839</td>\n",
       "      <td>2.604461</td>\n",
       "      <td>1.393615</td>\n",
       "      <td>-0.153449</td>\n",
       "    </tr>\n",
       "    <tr>\n",
       "      <th>2023-01-04</th>\n",
       "      <td>-0.828507</td>\n",
       "      <td>-1.883435</td>\n",
       "      <td>-1.204261</td>\n",
       "      <td>-0.143998</td>\n",
       "    </tr>\n",
       "    <tr>\n",
       "      <th>2023-01-05</th>\n",
       "      <td>-0.400983</td>\n",
       "      <td>1.382989</td>\n",
       "      <td>-0.007788</td>\n",
       "      <td>0.030533</td>\n",
       "    </tr>\n",
       "    <tr>\n",
       "      <th>2023-01-06</th>\n",
       "      <td>0.013255</td>\n",
       "      <td>0.520081</td>\n",
       "      <td>1.725528</td>\n",
       "      <td>-1.667882</td>\n",
       "    </tr>\n",
       "  </tbody>\n",
       "</table>\n",
       "</div>"
      ],
      "text/plain": [
       "                   A         B         C         D\n",
       "2023-01-01 -0.955547  0.298039 -1.146234  0.758017\n",
       "2023-01-02 -0.345336 -0.865250 -1.887181  0.295724\n",
       "2023-01-03  0.081839  2.604461  1.393615 -0.153449\n",
       "2023-01-04 -0.828507 -1.883435 -1.204261 -0.143998\n",
       "2023-01-05 -0.400983  1.382989 -0.007788  0.030533\n",
       "2023-01-06  0.013255  0.520081  1.725528 -1.667882"
      ]
     },
     "execution_count": 73,
     "metadata": {},
     "output_type": "execute_result"
    }
   ],
   "source": [
    "# create DataFrame with values(=6by4 array), index, columns\n",
    "df = pd.DataFrame(np.random.randn(6, 4), index=dates, columns=['A', 'B', 'C', 'D'])\n",
    "df"
   ]
  },
  {
   "cell_type": "markdown",
   "id": "9bb6c07b-03ed-40eb-ad07-7674e0e5dc6d",
   "metadata": {},
   "source": [
    "### DataFrame 구조"
   ]
  },
  {
   "cell_type": "code",
   "execution_count": 74,
   "id": "d94f2dac-6594-4733-9f3b-ce94ed8a5ec0",
   "metadata": {},
   "outputs": [
    {
     "data": {
      "text/plain": [
       "pandas.core.frame.DataFrame"
      ]
     },
     "execution_count": 74,
     "metadata": {},
     "output_type": "execute_result"
    }
   ],
   "source": [
    "type(df)"
   ]
  },
  {
   "cell_type": "code",
   "execution_count": 75,
   "id": "82c59905-413e-4b74-9619-804453512ea3",
   "metadata": {},
   "outputs": [
    {
     "data": {
      "text/plain": [
       "Index(['A', 'B', 'C', 'D'], dtype='object')"
      ]
     },
     "execution_count": 75,
     "metadata": {},
     "output_type": "execute_result"
    }
   ],
   "source": [
    "df.columns"
   ]
  },
  {
   "cell_type": "code",
   "execution_count": 76,
   "id": "bc112efb-51fd-46e2-a498-a4d392804282",
   "metadata": {},
   "outputs": [
    {
     "data": {
      "text/plain": [
       "DatetimeIndex(['2023-01-01', '2023-01-02', '2023-01-03', '2023-01-04',\n",
       "               '2023-01-05', '2023-01-06'],\n",
       "              dtype='datetime64[ns]', freq='D')"
      ]
     },
     "execution_count": 76,
     "metadata": {},
     "output_type": "execute_result"
    }
   ],
   "source": [
    "df.index"
   ]
  },
  {
   "cell_type": "code",
   "execution_count": 77,
   "id": "af77a142-e4bf-4b5b-8533-e6a26be5d5ce",
   "metadata": {},
   "outputs": [
    {
     "data": {
      "text/plain": [
       "array([[-0.95554651,  0.29803933, -1.14623427,  0.75801718],\n",
       "       [-0.34533564, -0.86525009, -1.88718101,  0.29572382],\n",
       "       [ 0.08183873,  2.60446121,  1.39361502, -0.15344864],\n",
       "       [-0.82850654, -1.88343548, -1.20426088, -0.143998  ],\n",
       "       [-0.4009831 ,  1.38298889, -0.00778814,  0.03053343],\n",
       "       [ 0.01325469,  0.52008131,  1.72552764, -1.66788161]])"
      ]
     },
     "execution_count": 77,
     "metadata": {},
     "output_type": "execute_result"
    }
   ],
   "source": [
    "df.values"
   ]
  },
  {
   "cell_type": "markdown",
   "id": "67a6b827-a841-469d-921e-37efb057f8b4",
   "metadata": {},
   "source": [
    "### 기초 활용 함수"
   ]
  },
  {
   "cell_type": "code",
   "execution_count": 78,
   "id": "fd6050a2-3318-48e7-93ff-f13259b4b6fb",
   "metadata": {},
   "outputs": [
    {
     "data": {
      "text/html": [
       "<div>\n",
       "<style scoped>\n",
       "    .dataframe tbody tr th:only-of-type {\n",
       "        vertical-align: middle;\n",
       "    }\n",
       "\n",
       "    .dataframe tbody tr th {\n",
       "        vertical-align: top;\n",
       "    }\n",
       "\n",
       "    .dataframe thead th {\n",
       "        text-align: right;\n",
       "    }\n",
       "</style>\n",
       "<table border=\"1\" class=\"dataframe\">\n",
       "  <thead>\n",
       "    <tr style=\"text-align: right;\">\n",
       "      <th></th>\n",
       "      <th>A</th>\n",
       "      <th>B</th>\n",
       "      <th>C</th>\n",
       "      <th>D</th>\n",
       "    </tr>\n",
       "  </thead>\n",
       "  <tbody>\n",
       "    <tr>\n",
       "      <th>count</th>\n",
       "      <td>6.000000</td>\n",
       "      <td>6.000000</td>\n",
       "      <td>6.000000</td>\n",
       "      <td>6.000000</td>\n",
       "    </tr>\n",
       "    <tr>\n",
       "      <th>mean</th>\n",
       "      <td>-0.405880</td>\n",
       "      <td>0.342814</td>\n",
       "      <td>-0.187720</td>\n",
       "      <td>-0.146842</td>\n",
       "    </tr>\n",
       "    <tr>\n",
       "      <th>std</th>\n",
       "      <td>0.423788</td>\n",
       "      <td>1.590349</td>\n",
       "      <td>1.485516</td>\n",
       "      <td>0.819721</td>\n",
       "    </tr>\n",
       "    <tr>\n",
       "      <th>min</th>\n",
       "      <td>-0.955547</td>\n",
       "      <td>-1.883435</td>\n",
       "      <td>-1.887181</td>\n",
       "      <td>-1.667882</td>\n",
       "    </tr>\n",
       "    <tr>\n",
       "      <th>25%</th>\n",
       "      <td>-0.721626</td>\n",
       "      <td>-0.574428</td>\n",
       "      <td>-1.189754</td>\n",
       "      <td>-0.151086</td>\n",
       "    </tr>\n",
       "    <tr>\n",
       "      <th>50%</th>\n",
       "      <td>-0.373159</td>\n",
       "      <td>0.409060</td>\n",
       "      <td>-0.577011</td>\n",
       "      <td>-0.056732</td>\n",
       "    </tr>\n",
       "    <tr>\n",
       "      <th>75%</th>\n",
       "      <td>-0.076393</td>\n",
       "      <td>1.167262</td>\n",
       "      <td>1.043264</td>\n",
       "      <td>0.229426</td>\n",
       "    </tr>\n",
       "    <tr>\n",
       "      <th>max</th>\n",
       "      <td>0.081839</td>\n",
       "      <td>2.604461</td>\n",
       "      <td>1.725528</td>\n",
       "      <td>0.758017</td>\n",
       "    </tr>\n",
       "  </tbody>\n",
       "</table>\n",
       "</div>"
      ],
      "text/plain": [
       "              A         B         C         D\n",
       "count  6.000000  6.000000  6.000000  6.000000\n",
       "mean  -0.405880  0.342814 -0.187720 -0.146842\n",
       "std    0.423788  1.590349  1.485516  0.819721\n",
       "min   -0.955547 -1.883435 -1.887181 -1.667882\n",
       "25%   -0.721626 -0.574428 -1.189754 -0.151086\n",
       "50%   -0.373159  0.409060 -0.577011 -0.056732\n",
       "75%   -0.076393  1.167262  1.043264  0.229426\n",
       "max    0.081839  2.604461  1.725528  0.758017"
      ]
     },
     "execution_count": 78,
     "metadata": {},
     "output_type": "execute_result"
    }
   ],
   "source": [
    "# 개요보기\n",
    "df.describe()"
   ]
  },
  {
   "cell_type": "code",
   "execution_count": 79,
   "id": "f3e5a139-7928-43fe-a599-3642c33caac0",
   "metadata": {},
   "outputs": [
    {
     "data": {
      "text/html": [
       "<div>\n",
       "<style scoped>\n",
       "    .dataframe tbody tr th:only-of-type {\n",
       "        vertical-align: middle;\n",
       "    }\n",
       "\n",
       "    .dataframe tbody tr th {\n",
       "        vertical-align: top;\n",
       "    }\n",
       "\n",
       "    .dataframe thead th {\n",
       "        text-align: right;\n",
       "    }\n",
       "</style>\n",
       "<table border=\"1\" class=\"dataframe\">\n",
       "  <thead>\n",
       "    <tr style=\"text-align: right;\">\n",
       "      <th></th>\n",
       "      <th>A</th>\n",
       "      <th>B</th>\n",
       "      <th>C</th>\n",
       "      <th>D</th>\n",
       "    </tr>\n",
       "  </thead>\n",
       "  <tbody>\n",
       "    <tr>\n",
       "      <th>2023-01-01</th>\n",
       "      <td>-0.955547</td>\n",
       "      <td>0.298039</td>\n",
       "      <td>-1.146234</td>\n",
       "      <td>0.758017</td>\n",
       "    </tr>\n",
       "    <tr>\n",
       "      <th>2023-01-04</th>\n",
       "      <td>-0.828507</td>\n",
       "      <td>-1.883435</td>\n",
       "      <td>-1.204261</td>\n",
       "      <td>-0.143998</td>\n",
       "    </tr>\n",
       "    <tr>\n",
       "      <th>2023-01-05</th>\n",
       "      <td>-0.400983</td>\n",
       "      <td>1.382989</td>\n",
       "      <td>-0.007788</td>\n",
       "      <td>0.030533</td>\n",
       "    </tr>\n",
       "    <tr>\n",
       "      <th>2023-01-02</th>\n",
       "      <td>-0.345336</td>\n",
       "      <td>-0.865250</td>\n",
       "      <td>-1.887181</td>\n",
       "      <td>0.295724</td>\n",
       "    </tr>\n",
       "    <tr>\n",
       "      <th>2023-01-06</th>\n",
       "      <td>0.013255</td>\n",
       "      <td>0.520081</td>\n",
       "      <td>1.725528</td>\n",
       "      <td>-1.667882</td>\n",
       "    </tr>\n",
       "    <tr>\n",
       "      <th>2023-01-03</th>\n",
       "      <td>0.081839</td>\n",
       "      <td>2.604461</td>\n",
       "      <td>1.393615</td>\n",
       "      <td>-0.153449</td>\n",
       "    </tr>\n",
       "  </tbody>\n",
       "</table>\n",
       "</div>"
      ],
      "text/plain": [
       "                   A         B         C         D\n",
       "2023-01-01 -0.955547  0.298039 -1.146234  0.758017\n",
       "2023-01-04 -0.828507 -1.883435 -1.204261 -0.143998\n",
       "2023-01-05 -0.400983  1.382989 -0.007788  0.030533\n",
       "2023-01-02 -0.345336 -0.865250 -1.887181  0.295724\n",
       "2023-01-06  0.013255  0.520081  1.725528 -1.667882\n",
       "2023-01-03  0.081839  2.604461  1.393615 -0.153449"
      ]
     },
     "execution_count": 79,
     "metadata": {},
     "output_type": "execute_result"
    }
   ],
   "source": [
    "# 정렬기능 , 'A' 컬럼을 기준으로 오름차순정렬\n",
    "df.sort_values(by='A')  # defaults = ascending sort"
   ]
  },
  {
   "cell_type": "code",
   "execution_count": 80,
   "id": "3467f782-a1d9-4064-9fa8-e0321c6409df",
   "metadata": {},
   "outputs": [
    {
     "data": {
      "text/html": [
       "<div>\n",
       "<style scoped>\n",
       "    .dataframe tbody tr th:only-of-type {\n",
       "        vertical-align: middle;\n",
       "    }\n",
       "\n",
       "    .dataframe tbody tr th {\n",
       "        vertical-align: top;\n",
       "    }\n",
       "\n",
       "    .dataframe thead th {\n",
       "        text-align: right;\n",
       "    }\n",
       "</style>\n",
       "<table border=\"1\" class=\"dataframe\">\n",
       "  <thead>\n",
       "    <tr style=\"text-align: right;\">\n",
       "      <th></th>\n",
       "      <th>A</th>\n",
       "      <th>B</th>\n",
       "      <th>C</th>\n",
       "      <th>D</th>\n",
       "    </tr>\n",
       "  </thead>\n",
       "  <tbody>\n",
       "    <tr>\n",
       "      <th>2023-01-03</th>\n",
       "      <td>0.081839</td>\n",
       "      <td>2.604461</td>\n",
       "      <td>1.393615</td>\n",
       "      <td>-0.153449</td>\n",
       "    </tr>\n",
       "    <tr>\n",
       "      <th>2023-01-06</th>\n",
       "      <td>0.013255</td>\n",
       "      <td>0.520081</td>\n",
       "      <td>1.725528</td>\n",
       "      <td>-1.667882</td>\n",
       "    </tr>\n",
       "    <tr>\n",
       "      <th>2023-01-02</th>\n",
       "      <td>-0.345336</td>\n",
       "      <td>-0.865250</td>\n",
       "      <td>-1.887181</td>\n",
       "      <td>0.295724</td>\n",
       "    </tr>\n",
       "    <tr>\n",
       "      <th>2023-01-05</th>\n",
       "      <td>-0.400983</td>\n",
       "      <td>1.382989</td>\n",
       "      <td>-0.007788</td>\n",
       "      <td>0.030533</td>\n",
       "    </tr>\n",
       "    <tr>\n",
       "      <th>2023-01-04</th>\n",
       "      <td>-0.828507</td>\n",
       "      <td>-1.883435</td>\n",
       "      <td>-1.204261</td>\n",
       "      <td>-0.143998</td>\n",
       "    </tr>\n",
       "    <tr>\n",
       "      <th>2023-01-01</th>\n",
       "      <td>-0.955547</td>\n",
       "      <td>0.298039</td>\n",
       "      <td>-1.146234</td>\n",
       "      <td>0.758017</td>\n",
       "    </tr>\n",
       "  </tbody>\n",
       "</table>\n",
       "</div>"
      ],
      "text/plain": [
       "                   A         B         C         D\n",
       "2023-01-03  0.081839  2.604461  1.393615 -0.153449\n",
       "2023-01-06  0.013255  0.520081  1.725528 -1.667882\n",
       "2023-01-02 -0.345336 -0.865250 -1.887181  0.295724\n",
       "2023-01-05 -0.400983  1.382989 -0.007788  0.030533\n",
       "2023-01-04 -0.828507 -1.883435 -1.204261 -0.143998\n",
       "2023-01-01 -0.955547  0.298039 -1.146234  0.758017"
      ]
     },
     "execution_count": 80,
     "metadata": {},
     "output_type": "execute_result"
    }
   ],
   "source": [
    "df.sort_values(by='A', ascending=False)  # desconding sort"
   ]
  },
  {
   "cell_type": "markdown",
   "id": "6e12ac6c-74d9-4b71-b946-56c83ea4300d",
   "metadata": {},
   "source": [
    "### DataFrame Slice"
   ]
  },
  {
   "cell_type": "markdown",
   "id": "2d08ea38-482a-49e3-b6c7-719ef4b93ad4",
   "metadata": {},
   "source": [
    "#### Columns name"
   ]
  },
  {
   "cell_type": "code",
   "execution_count": 81,
   "id": "934250c0-a94a-4a4e-9c3c-f6e42544e072",
   "metadata": {},
   "outputs": [
    {
     "data": {
      "text/plain": [
       "2023-01-01   -0.955547\n",
       "2023-01-02   -0.345336\n",
       "2023-01-03    0.081839\n",
       "2023-01-04   -0.828507\n",
       "2023-01-05   -0.400983\n",
       "2023-01-06    0.013255\n",
       "Freq: D, Name: A, dtype: float64"
      ]
     },
     "execution_count": 81,
     "metadata": {},
     "output_type": "execute_result"
    }
   ],
   "source": [
    "df['A']"
   ]
  },
  {
   "cell_type": "code",
   "execution_count": 82,
   "id": "452c50dd-0438-4e2a-8609-c2fb25ad2d09",
   "metadata": {},
   "outputs": [
    {
     "data": {
      "text/plain": [
       "pandas.core.series.Series"
      ]
     },
     "execution_count": 82,
     "metadata": {},
     "output_type": "execute_result"
    }
   ],
   "source": [
    "type(df['A'])"
   ]
  },
  {
   "cell_type": "markdown",
   "id": "50e304d8-0836-4d37-91ee-7e01ad2804f0",
   "metadata": {},
   "source": [
    "#### Rows index"
   ]
  },
  {
   "cell_type": "code",
   "execution_count": 83,
   "id": "bcd1fd67-4be4-4d6c-9632-d30aa64cb130",
   "metadata": {},
   "outputs": [
    {
     "data": {
      "text/html": [
       "<div>\n",
       "<style scoped>\n",
       "    .dataframe tbody tr th:only-of-type {\n",
       "        vertical-align: middle;\n",
       "    }\n",
       "\n",
       "    .dataframe tbody tr th {\n",
       "        vertical-align: top;\n",
       "    }\n",
       "\n",
       "    .dataframe thead th {\n",
       "        text-align: right;\n",
       "    }\n",
       "</style>\n",
       "<table border=\"1\" class=\"dataframe\">\n",
       "  <thead>\n",
       "    <tr style=\"text-align: right;\">\n",
       "      <th></th>\n",
       "      <th>A</th>\n",
       "      <th>B</th>\n",
       "      <th>C</th>\n",
       "      <th>D</th>\n",
       "    </tr>\n",
       "  </thead>\n",
       "  <tbody>\n",
       "    <tr>\n",
       "      <th>2023-01-01</th>\n",
       "      <td>-0.955547</td>\n",
       "      <td>0.298039</td>\n",
       "      <td>-1.146234</td>\n",
       "      <td>0.758017</td>\n",
       "    </tr>\n",
       "    <tr>\n",
       "      <th>2023-01-02</th>\n",
       "      <td>-0.345336</td>\n",
       "      <td>-0.865250</td>\n",
       "      <td>-1.887181</td>\n",
       "      <td>0.295724</td>\n",
       "    </tr>\n",
       "    <tr>\n",
       "      <th>2023-01-03</th>\n",
       "      <td>0.081839</td>\n",
       "      <td>2.604461</td>\n",
       "      <td>1.393615</td>\n",
       "      <td>-0.153449</td>\n",
       "    </tr>\n",
       "  </tbody>\n",
       "</table>\n",
       "</div>"
      ],
      "text/plain": [
       "                   A         B         C         D\n",
       "2023-01-01 -0.955547  0.298039 -1.146234  0.758017\n",
       "2023-01-02 -0.345336 -0.865250 -1.887181  0.295724\n",
       "2023-01-03  0.081839  2.604461  1.393615 -0.153449"
      ]
     },
     "execution_count": 83,
     "metadata": {},
     "output_type": "execute_result"
    }
   ],
   "source": [
    "df[0:3]"
   ]
  },
  {
   "cell_type": "markdown",
   "id": "8dc16988-0976-465b-86ca-e032d66f0b55",
   "metadata": {
    "tags": []
   },
   "source": [
    "#### loc[]\n",
    "\n",
    "- Access a group of rows and columns by label(s) or a boolean array\n",
    "- loc[] is primarily label based"
   ]
  },
  {
   "cell_type": "code",
   "execution_count": 84,
   "id": "af9234ee-3d77-4027-9c49-0d1e93adb92e",
   "metadata": {},
   "outputs": [
    {
     "data": {
      "text/plain": [
       "A   -0.955547\n",
       "B    0.298039\n",
       "C   -1.146234\n",
       "D    0.758017\n",
       "Name: 2023-01-01 00:00:00, dtype: float64"
      ]
     },
     "execution_count": 84,
     "metadata": {},
     "output_type": "execute_result"
    }
   ],
   "source": [
    "# loc[] is primarily label based\n",
    "df.loc['2023-01-01']  # row label is '2023-01-01'"
   ]
  },
  {
   "cell_type": "code",
   "execution_count": 85,
   "id": "eeb06fcf-0316-483b-aee9-997bd6ed30b8",
   "metadata": {},
   "outputs": [
    {
     "data": {
      "text/plain": [
       "A   -0.955547\n",
       "Name: 2023-01-01 00:00:00, dtype: float64"
      ]
     },
     "execution_count": 85,
     "metadata": {},
     "output_type": "execute_result"
    }
   ],
   "source": [
    "df.loc['2023-01-01', ['A']]  # [row label, column label]"
   ]
  },
  {
   "cell_type": "code",
   "execution_count": 86,
   "id": "cd3b7dcc-46d4-489d-914d-df0d12d7a958",
   "metadata": {},
   "outputs": [
    {
     "data": {
      "text/plain": [
       "A   -0.955547\n",
       "B    0.298039\n",
       "Name: 2023-01-01 00:00:00, dtype: float64"
      ]
     },
     "execution_count": 86,
     "metadata": {},
     "output_type": "execute_result"
    }
   ],
   "source": [
    "df.loc['2023-01-01', ['A', 'B']]"
   ]
  },
  {
   "cell_type": "code",
   "execution_count": 87,
   "id": "304f879a-119c-43c1-a166-d6c267bbe666",
   "metadata": {},
   "outputs": [
    {
     "data": {
      "text/html": [
       "<div>\n",
       "<style scoped>\n",
       "    .dataframe tbody tr th:only-of-type {\n",
       "        vertical-align: middle;\n",
       "    }\n",
       "\n",
       "    .dataframe tbody tr th {\n",
       "        vertical-align: top;\n",
       "    }\n",
       "\n",
       "    .dataframe thead th {\n",
       "        text-align: right;\n",
       "    }\n",
       "</style>\n",
       "<table border=\"1\" class=\"dataframe\">\n",
       "  <thead>\n",
       "    <tr style=\"text-align: right;\">\n",
       "      <th></th>\n",
       "      <th>A</th>\n",
       "      <th>B</th>\n",
       "    </tr>\n",
       "  </thead>\n",
       "  <tbody>\n",
       "    <tr>\n",
       "      <th>2023-01-01</th>\n",
       "      <td>-0.955547</td>\n",
       "      <td>0.298039</td>\n",
       "    </tr>\n",
       "    <tr>\n",
       "      <th>2023-01-02</th>\n",
       "      <td>-0.345336</td>\n",
       "      <td>-0.865250</td>\n",
       "    </tr>\n",
       "    <tr>\n",
       "      <th>2023-01-03</th>\n",
       "      <td>0.081839</td>\n",
       "      <td>2.604461</td>\n",
       "    </tr>\n",
       "    <tr>\n",
       "      <th>2023-01-04</th>\n",
       "      <td>-0.828507</td>\n",
       "      <td>-1.883435</td>\n",
       "    </tr>\n",
       "    <tr>\n",
       "      <th>2023-01-05</th>\n",
       "      <td>-0.400983</td>\n",
       "      <td>1.382989</td>\n",
       "    </tr>\n",
       "  </tbody>\n",
       "</table>\n",
       "</div>"
      ],
      "text/plain": [
       "                   A         B\n",
       "2023-01-01 -0.955547  0.298039\n",
       "2023-01-02 -0.345336 -0.865250\n",
       "2023-01-03  0.081839  2.604461\n",
       "2023-01-04 -0.828507 -1.883435\n",
       "2023-01-05 -0.400983  1.382989"
      ]
     },
     "execution_count": 87,
     "metadata": {},
     "output_type": "execute_result"
    }
   ],
   "source": [
    "df.loc['2023-01-01':'2023-01-05', ['A', 'B']]"
   ]
  },
  {
   "cell_type": "code",
   "execution_count": 88,
   "id": "51774ba6-1f16-40a6-9884-55743a4d1f09",
   "metadata": {},
   "outputs": [
    {
     "data": {
      "text/html": [
       "<div>\n",
       "<style scoped>\n",
       "    .dataframe tbody tr th:only-of-type {\n",
       "        vertical-align: middle;\n",
       "    }\n",
       "\n",
       "    .dataframe tbody tr th {\n",
       "        vertical-align: top;\n",
       "    }\n",
       "\n",
       "    .dataframe thead th {\n",
       "        text-align: right;\n",
       "    }\n",
       "</style>\n",
       "<table border=\"1\" class=\"dataframe\">\n",
       "  <thead>\n",
       "    <tr style=\"text-align: right;\">\n",
       "      <th></th>\n",
       "      <th>A</th>\n",
       "      <th>B</th>\n",
       "    </tr>\n",
       "  </thead>\n",
       "  <tbody>\n",
       "    <tr>\n",
       "      <th>2023-01-01</th>\n",
       "      <td>-0.955547</td>\n",
       "      <td>0.298039</td>\n",
       "    </tr>\n",
       "    <tr>\n",
       "      <th>2023-01-02</th>\n",
       "      <td>-0.345336</td>\n",
       "      <td>-0.865250</td>\n",
       "    </tr>\n",
       "    <tr>\n",
       "      <th>2023-01-03</th>\n",
       "      <td>0.081839</td>\n",
       "      <td>2.604461</td>\n",
       "    </tr>\n",
       "    <tr>\n",
       "      <th>2023-01-04</th>\n",
       "      <td>-0.828507</td>\n",
       "      <td>-1.883435</td>\n",
       "    </tr>\n",
       "    <tr>\n",
       "      <th>2023-01-05</th>\n",
       "      <td>-0.400983</td>\n",
       "      <td>1.382989</td>\n",
       "    </tr>\n",
       "    <tr>\n",
       "      <th>2023-01-06</th>\n",
       "      <td>0.013255</td>\n",
       "      <td>0.520081</td>\n",
       "    </tr>\n",
       "  </tbody>\n",
       "</table>\n",
       "</div>"
      ],
      "text/plain": [
       "                   A         B\n",
       "2023-01-01 -0.955547  0.298039\n",
       "2023-01-02 -0.345336 -0.865250\n",
       "2023-01-03  0.081839  2.604461\n",
       "2023-01-04 -0.828507 -1.883435\n",
       "2023-01-05 -0.400983  1.382989\n",
       "2023-01-06  0.013255  0.520081"
      ]
     },
     "execution_count": 88,
     "metadata": {},
     "output_type": "execute_result"
    }
   ],
   "source": [
    "df.loc[:, ['A', 'B']] # `:` is all rows"
   ]
  },
  {
   "cell_type": "markdown",
   "id": "b1ab45d7-7705-45f5-87c5-99349dfba260",
   "metadata": {},
   "source": [
    "#### iloc[]\n",
    "\n",
    "- Purely integer-location based indexing for selection by position.\n",
    "- iloc[] is primarily integer position based"
   ]
  },
  {
   "cell_type": "code",
   "execution_count": 89,
   "id": "e954858f-2277-4d1f-880b-36e335c6e267",
   "metadata": {},
   "outputs": [
    {
     "data": {
      "text/html": [
       "<div>\n",
       "<style scoped>\n",
       "    .dataframe tbody tr th:only-of-type {\n",
       "        vertical-align: middle;\n",
       "    }\n",
       "\n",
       "    .dataframe tbody tr th {\n",
       "        vertical-align: top;\n",
       "    }\n",
       "\n",
       "    .dataframe thead th {\n",
       "        text-align: right;\n",
       "    }\n",
       "</style>\n",
       "<table border=\"1\" class=\"dataframe\">\n",
       "  <thead>\n",
       "    <tr style=\"text-align: right;\">\n",
       "      <th></th>\n",
       "      <th>A</th>\n",
       "      <th>B</th>\n",
       "      <th>C</th>\n",
       "      <th>D</th>\n",
       "    </tr>\n",
       "  </thead>\n",
       "  <tbody>\n",
       "    <tr>\n",
       "      <th>2023-01-01</th>\n",
       "      <td>-0.955547</td>\n",
       "      <td>0.298039</td>\n",
       "      <td>-1.146234</td>\n",
       "      <td>0.758017</td>\n",
       "    </tr>\n",
       "    <tr>\n",
       "      <th>2023-01-02</th>\n",
       "      <td>-0.345336</td>\n",
       "      <td>-0.865250</td>\n",
       "      <td>-1.887181</td>\n",
       "      <td>0.295724</td>\n",
       "    </tr>\n",
       "  </tbody>\n",
       "</table>\n",
       "</div>"
      ],
      "text/plain": [
       "                   A         B         C         D\n",
       "2023-01-01 -0.955547  0.298039 -1.146234  0.758017\n",
       "2023-01-02 -0.345336 -0.865250 -1.887181  0.295724"
      ]
     },
     "execution_count": 89,
     "metadata": {},
     "output_type": "execute_result"
    }
   ],
   "source": [
    "# iloc[] is primarily integer position based\n",
    "df.iloc[0:2] # 0, 1 row index"
   ]
  },
  {
   "cell_type": "code",
   "execution_count": 90,
   "id": "066b2fcc-9713-44c8-aabb-16b9519ae44b",
   "metadata": {},
   "outputs": [
    {
     "data": {
      "text/html": [
       "<div>\n",
       "<style scoped>\n",
       "    .dataframe tbody tr th:only-of-type {\n",
       "        vertical-align: middle;\n",
       "    }\n",
       "\n",
       "    .dataframe tbody tr th {\n",
       "        vertical-align: top;\n",
       "    }\n",
       "\n",
       "    .dataframe thead th {\n",
       "        text-align: right;\n",
       "    }\n",
       "</style>\n",
       "<table border=\"1\" class=\"dataframe\">\n",
       "  <thead>\n",
       "    <tr style=\"text-align: right;\">\n",
       "      <th></th>\n",
       "      <th>A</th>\n",
       "      <th>B</th>\n",
       "    </tr>\n",
       "  </thead>\n",
       "  <tbody>\n",
       "    <tr>\n",
       "      <th>2023-01-01</th>\n",
       "      <td>-0.955547</td>\n",
       "      <td>0.298039</td>\n",
       "    </tr>\n",
       "    <tr>\n",
       "      <th>2023-01-02</th>\n",
       "      <td>-0.345336</td>\n",
       "      <td>-0.865250</td>\n",
       "    </tr>\n",
       "    <tr>\n",
       "      <th>2023-01-03</th>\n",
       "      <td>0.081839</td>\n",
       "      <td>2.604461</td>\n",
       "    </tr>\n",
       "  </tbody>\n",
       "</table>\n",
       "</div>"
      ],
      "text/plain": [
       "                   A         B\n",
       "2023-01-01 -0.955547  0.298039\n",
       "2023-01-02 -0.345336 -0.865250\n",
       "2023-01-03  0.081839  2.604461"
      ]
     },
     "execution_count": 90,
     "metadata": {},
     "output_type": "execute_result"
    }
   ],
   "source": [
    "df.iloc[[0, 1, 2], 0:2] # [rows index postition, cols index postition] "
   ]
  },
  {
   "cell_type": "code",
   "execution_count": 91,
   "id": "c4fe2527-eb6c-411f-a66f-9c990edce508",
   "metadata": {},
   "outputs": [
    {
     "data": {
      "text/html": [
       "<div>\n",
       "<style scoped>\n",
       "    .dataframe tbody tr th:only-of-type {\n",
       "        vertical-align: middle;\n",
       "    }\n",
       "\n",
       "    .dataframe tbody tr th {\n",
       "        vertical-align: top;\n",
       "    }\n",
       "\n",
       "    .dataframe thead th {\n",
       "        text-align: right;\n",
       "    }\n",
       "</style>\n",
       "<table border=\"1\" class=\"dataframe\">\n",
       "  <thead>\n",
       "    <tr style=\"text-align: right;\">\n",
       "      <th></th>\n",
       "      <th>A</th>\n",
       "      <th>B</th>\n",
       "      <th>C</th>\n",
       "      <th>D</th>\n",
       "    </tr>\n",
       "  </thead>\n",
       "  <tbody>\n",
       "    <tr>\n",
       "      <th>2023-01-01</th>\n",
       "      <td>-0.955547</td>\n",
       "      <td>0.298039</td>\n",
       "      <td>-1.146234</td>\n",
       "      <td>0.758017</td>\n",
       "    </tr>\n",
       "    <tr>\n",
       "      <th>2023-01-02</th>\n",
       "      <td>-0.345336</td>\n",
       "      <td>-0.865250</td>\n",
       "      <td>-1.887181</td>\n",
       "      <td>0.295724</td>\n",
       "    </tr>\n",
       "    <tr>\n",
       "      <th>2023-01-03</th>\n",
       "      <td>0.081839</td>\n",
       "      <td>2.604461</td>\n",
       "      <td>1.393615</td>\n",
       "      <td>-0.153449</td>\n",
       "    </tr>\n",
       "  </tbody>\n",
       "</table>\n",
       "</div>"
      ],
      "text/plain": [
       "                   A         B         C         D\n",
       "2023-01-01 -0.955547  0.298039 -1.146234  0.758017\n",
       "2023-01-02 -0.345336 -0.865250 -1.887181  0.295724\n",
       "2023-01-03  0.081839  2.604461  1.393615 -0.153449"
      ]
     },
     "execution_count": 91,
     "metadata": {},
     "output_type": "execute_result"
    }
   ],
   "source": [
    "df.iloc[[0,1,2]]"
   ]
  },
  {
   "cell_type": "markdown",
   "id": "f78d1a56-a4ad-4f01-967e-f612d1198100",
   "metadata": {},
   "source": [
    "### DataFrame 내에서 조건문 사용"
   ]
  },
  {
   "cell_type": "code",
   "execution_count": 92,
   "id": "377d5062-6bdd-4589-8807-f5432a65d2e8",
   "metadata": {},
   "outputs": [
    {
     "data": {
      "text/plain": [
       "2023-01-01    False\n",
       "2023-01-02    False\n",
       "2023-01-03     True\n",
       "2023-01-04    False\n",
       "2023-01-05    False\n",
       "2023-01-06     True\n",
       "Freq: D, Name: A, dtype: bool"
      ]
     },
     "execution_count": 92,
     "metadata": {},
     "output_type": "execute_result"
    }
   ],
   "source": [
    "df['A']>0"
   ]
  },
  {
   "cell_type": "code",
   "execution_count": 93,
   "id": "65b483a0-bb7f-43ff-810b-13580d80b7a2",
   "metadata": {},
   "outputs": [
    {
     "data": {
      "text/html": [
       "<div>\n",
       "<style scoped>\n",
       "    .dataframe tbody tr th:only-of-type {\n",
       "        vertical-align: middle;\n",
       "    }\n",
       "\n",
       "    .dataframe tbody tr th {\n",
       "        vertical-align: top;\n",
       "    }\n",
       "\n",
       "    .dataframe thead th {\n",
       "        text-align: right;\n",
       "    }\n",
       "</style>\n",
       "<table border=\"1\" class=\"dataframe\">\n",
       "  <thead>\n",
       "    <tr style=\"text-align: right;\">\n",
       "      <th></th>\n",
       "      <th>A</th>\n",
       "      <th>B</th>\n",
       "      <th>C</th>\n",
       "      <th>D</th>\n",
       "    </tr>\n",
       "  </thead>\n",
       "  <tbody>\n",
       "    <tr>\n",
       "      <th>2023-01-03</th>\n",
       "      <td>0.081839</td>\n",
       "      <td>2.604461</td>\n",
       "      <td>1.393615</td>\n",
       "      <td>-0.153449</td>\n",
       "    </tr>\n",
       "    <tr>\n",
       "      <th>2023-01-06</th>\n",
       "      <td>0.013255</td>\n",
       "      <td>0.520081</td>\n",
       "      <td>1.725528</td>\n",
       "      <td>-1.667882</td>\n",
       "    </tr>\n",
       "  </tbody>\n",
       "</table>\n",
       "</div>"
      ],
      "text/plain": [
       "                   A         B         C         D\n",
       "2023-01-03  0.081839  2.604461  1.393615 -0.153449\n",
       "2023-01-06  0.013255  0.520081  1.725528 -1.667882"
      ]
     },
     "execution_count": 93,
     "metadata": {},
     "output_type": "execute_result"
    }
   ],
   "source": [
    "df[df['A']>0]"
   ]
  },
  {
   "cell_type": "code",
   "execution_count": 94,
   "id": "20539ff1-ad62-4872-b747-6da3b572d279",
   "metadata": {},
   "outputs": [
    {
     "data": {
      "text/html": [
       "<div>\n",
       "<style scoped>\n",
       "    .dataframe tbody tr th:only-of-type {\n",
       "        vertical-align: middle;\n",
       "    }\n",
       "\n",
       "    .dataframe tbody tr th {\n",
       "        vertical-align: top;\n",
       "    }\n",
       "\n",
       "    .dataframe thead th {\n",
       "        text-align: right;\n",
       "    }\n",
       "</style>\n",
       "<table border=\"1\" class=\"dataframe\">\n",
       "  <thead>\n",
       "    <tr style=\"text-align: right;\">\n",
       "      <th></th>\n",
       "      <th>A</th>\n",
       "      <th>B</th>\n",
       "      <th>C</th>\n",
       "      <th>D</th>\n",
       "    </tr>\n",
       "  </thead>\n",
       "  <tbody>\n",
       "    <tr>\n",
       "      <th>2023-01-01</th>\n",
       "      <td>False</td>\n",
       "      <td>True</td>\n",
       "      <td>False</td>\n",
       "      <td>True</td>\n",
       "    </tr>\n",
       "    <tr>\n",
       "      <th>2023-01-02</th>\n",
       "      <td>False</td>\n",
       "      <td>False</td>\n",
       "      <td>False</td>\n",
       "      <td>True</td>\n",
       "    </tr>\n",
       "    <tr>\n",
       "      <th>2023-01-03</th>\n",
       "      <td>True</td>\n",
       "      <td>True</td>\n",
       "      <td>True</td>\n",
       "      <td>False</td>\n",
       "    </tr>\n",
       "    <tr>\n",
       "      <th>2023-01-04</th>\n",
       "      <td>False</td>\n",
       "      <td>False</td>\n",
       "      <td>False</td>\n",
       "      <td>False</td>\n",
       "    </tr>\n",
       "    <tr>\n",
       "      <th>2023-01-05</th>\n",
       "      <td>False</td>\n",
       "      <td>True</td>\n",
       "      <td>False</td>\n",
       "      <td>True</td>\n",
       "    </tr>\n",
       "    <tr>\n",
       "      <th>2023-01-06</th>\n",
       "      <td>True</td>\n",
       "      <td>True</td>\n",
       "      <td>True</td>\n",
       "      <td>False</td>\n",
       "    </tr>\n",
       "  </tbody>\n",
       "</table>\n",
       "</div>"
      ],
      "text/plain": [
       "                A      B      C      D\n",
       "2023-01-01  False   True  False   True\n",
       "2023-01-02  False  False  False   True\n",
       "2023-01-03   True   True   True  False\n",
       "2023-01-04  False  False  False  False\n",
       "2023-01-05  False   True  False   True\n",
       "2023-01-06   True   True   True  False"
      ]
     },
     "execution_count": 94,
     "metadata": {},
     "output_type": "execute_result"
    }
   ],
   "source": [
    "df>0"
   ]
  },
  {
   "cell_type": "code",
   "execution_count": 95,
   "id": "c60f5008-1d0f-40f5-886d-c90fbf1fb3e2",
   "metadata": {},
   "outputs": [
    {
     "data": {
      "text/html": [
       "<div>\n",
       "<style scoped>\n",
       "    .dataframe tbody tr th:only-of-type {\n",
       "        vertical-align: middle;\n",
       "    }\n",
       "\n",
       "    .dataframe tbody tr th {\n",
       "        vertical-align: top;\n",
       "    }\n",
       "\n",
       "    .dataframe thead th {\n",
       "        text-align: right;\n",
       "    }\n",
       "</style>\n",
       "<table border=\"1\" class=\"dataframe\">\n",
       "  <thead>\n",
       "    <tr style=\"text-align: right;\">\n",
       "      <th></th>\n",
       "      <th>A</th>\n",
       "      <th>B</th>\n",
       "      <th>C</th>\n",
       "      <th>D</th>\n",
       "    </tr>\n",
       "  </thead>\n",
       "  <tbody>\n",
       "    <tr>\n",
       "      <th>2023-01-01</th>\n",
       "      <td>NaN</td>\n",
       "      <td>0.298039</td>\n",
       "      <td>NaN</td>\n",
       "      <td>0.758017</td>\n",
       "    </tr>\n",
       "    <tr>\n",
       "      <th>2023-01-02</th>\n",
       "      <td>NaN</td>\n",
       "      <td>NaN</td>\n",
       "      <td>NaN</td>\n",
       "      <td>0.295724</td>\n",
       "    </tr>\n",
       "    <tr>\n",
       "      <th>2023-01-03</th>\n",
       "      <td>0.081839</td>\n",
       "      <td>2.604461</td>\n",
       "      <td>1.393615</td>\n",
       "      <td>NaN</td>\n",
       "    </tr>\n",
       "    <tr>\n",
       "      <th>2023-01-04</th>\n",
       "      <td>NaN</td>\n",
       "      <td>NaN</td>\n",
       "      <td>NaN</td>\n",
       "      <td>NaN</td>\n",
       "    </tr>\n",
       "    <tr>\n",
       "      <th>2023-01-05</th>\n",
       "      <td>NaN</td>\n",
       "      <td>1.382989</td>\n",
       "      <td>NaN</td>\n",
       "      <td>0.030533</td>\n",
       "    </tr>\n",
       "    <tr>\n",
       "      <th>2023-01-06</th>\n",
       "      <td>0.013255</td>\n",
       "      <td>0.520081</td>\n",
       "      <td>1.725528</td>\n",
       "      <td>NaN</td>\n",
       "    </tr>\n",
       "  </tbody>\n",
       "</table>\n",
       "</div>"
      ],
      "text/plain": [
       "                   A         B         C         D\n",
       "2023-01-01       NaN  0.298039       NaN  0.758017\n",
       "2023-01-02       NaN       NaN       NaN  0.295724\n",
       "2023-01-03  0.081839  2.604461  1.393615       NaN\n",
       "2023-01-04       NaN       NaN       NaN       NaN\n",
       "2023-01-05       NaN  1.382989       NaN  0.030533\n",
       "2023-01-06  0.013255  0.520081  1.725528       NaN"
      ]
     },
     "execution_count": 95,
     "metadata": {},
     "output_type": "execute_result"
    }
   ],
   "source": [
    "df[df>0]"
   ]
  },
  {
   "cell_type": "markdown",
   "id": "6b31f355-ee89-4cef-955c-96592041fc1d",
   "metadata": {},
   "source": [
    "### 행과 열의 변경"
   ]
  },
  {
   "cell_type": "code",
   "execution_count": 96,
   "id": "51fbde94-59b6-4435-92dd-0b76e20bec52",
   "metadata": {},
   "outputs": [
    {
     "data": {
      "text/html": [
       "<div>\n",
       "<style scoped>\n",
       "    .dataframe tbody tr th:only-of-type {\n",
       "        vertical-align: middle;\n",
       "    }\n",
       "\n",
       "    .dataframe tbody tr th {\n",
       "        vertical-align: top;\n",
       "    }\n",
       "\n",
       "    .dataframe thead th {\n",
       "        text-align: right;\n",
       "    }\n",
       "</style>\n",
       "<table border=\"1\" class=\"dataframe\">\n",
       "  <thead>\n",
       "    <tr style=\"text-align: right;\">\n",
       "      <th></th>\n",
       "      <th>A</th>\n",
       "      <th>C</th>\n",
       "      <th>E</th>\n",
       "      <th>F</th>\n",
       "    </tr>\n",
       "  </thead>\n",
       "  <tbody>\n",
       "    <tr>\n",
       "      <th>2023-01-01</th>\n",
       "      <td>-0.955547</td>\n",
       "      <td>-1.146234</td>\n",
       "      <td>NaN</td>\n",
       "      <td>NaN</td>\n",
       "    </tr>\n",
       "    <tr>\n",
       "      <th>2023-01-02</th>\n",
       "      <td>-0.345336</td>\n",
       "      <td>-1.887181</td>\n",
       "      <td>NaN</td>\n",
       "      <td>NaN</td>\n",
       "    </tr>\n",
       "    <tr>\n",
       "      <th>2023-01-03</th>\n",
       "      <td>0.081839</td>\n",
       "      <td>1.393615</td>\n",
       "      <td>NaN</td>\n",
       "      <td>NaN</td>\n",
       "    </tr>\n",
       "    <tr>\n",
       "      <th>2023-01-04</th>\n",
       "      <td>-0.828507</td>\n",
       "      <td>-1.204261</td>\n",
       "      <td>NaN</td>\n",
       "      <td>NaN</td>\n",
       "    </tr>\n",
       "    <tr>\n",
       "      <th>2023-01-05</th>\n",
       "      <td>-0.400983</td>\n",
       "      <td>-0.007788</td>\n",
       "      <td>NaN</td>\n",
       "      <td>NaN</td>\n",
       "    </tr>\n",
       "    <tr>\n",
       "      <th>2023-01-06</th>\n",
       "      <td>0.013255</td>\n",
       "      <td>1.725528</td>\n",
       "      <td>NaN</td>\n",
       "      <td>NaN</td>\n",
       "    </tr>\n",
       "  </tbody>\n",
       "</table>\n",
       "</div>"
      ],
      "text/plain": [
       "                   A         C   E   F\n",
       "2023-01-01 -0.955547 -1.146234 NaN NaN\n",
       "2023-01-02 -0.345336 -1.887181 NaN NaN\n",
       "2023-01-03  0.081839  1.393615 NaN NaN\n",
       "2023-01-04 -0.828507 -1.204261 NaN NaN\n",
       "2023-01-05 -0.400983 -0.007788 NaN NaN\n",
       "2023-01-06  0.013255  1.725528 NaN NaN"
      ]
     },
     "execution_count": 96,
     "metadata": {},
     "output_type": "execute_result"
    }
   ],
   "source": [
    "df2 = pd.DataFrame(df, columns=['A', 'C', 'E', 'F'])  # column 'B' -> 'C'\n",
    "df2"
   ]
  },
  {
   "cell_type": "code",
   "execution_count": 97,
   "id": "7f7e8c1d-7712-4ac9-9114-b988a65e404c",
   "metadata": {},
   "outputs": [
    {
     "data": {
      "text/html": [
       "<div>\n",
       "<style scoped>\n",
       "    .dataframe tbody tr th:only-of-type {\n",
       "        vertical-align: middle;\n",
       "    }\n",
       "\n",
       "    .dataframe tbody tr th {\n",
       "        vertical-align: top;\n",
       "    }\n",
       "\n",
       "    .dataframe thead th {\n",
       "        text-align: right;\n",
       "    }\n",
       "</style>\n",
       "<table border=\"1\" class=\"dataframe\">\n",
       "  <thead>\n",
       "    <tr style=\"text-align: right;\">\n",
       "      <th></th>\n",
       "      <th>A</th>\n",
       "      <th>B</th>\n",
       "      <th>C</th>\n",
       "      <th>D</th>\n",
       "      <th>E</th>\n",
       "    </tr>\n",
       "  </thead>\n",
       "  <tbody>\n",
       "    <tr>\n",
       "      <th>2023-01-01</th>\n",
       "      <td>-0.955547</td>\n",
       "      <td>0.298039</td>\n",
       "      <td>-1.146234</td>\n",
       "      <td>0.758017</td>\n",
       "      <td>NaN</td>\n",
       "    </tr>\n",
       "    <tr>\n",
       "      <th>2023-01-02</th>\n",
       "      <td>-0.345336</td>\n",
       "      <td>-0.865250</td>\n",
       "      <td>-1.887181</td>\n",
       "      <td>0.295724</td>\n",
       "      <td>NaN</td>\n",
       "    </tr>\n",
       "    <tr>\n",
       "      <th>2023-01-03</th>\n",
       "      <td>0.081839</td>\n",
       "      <td>2.604461</td>\n",
       "      <td>1.393615</td>\n",
       "      <td>-0.153449</td>\n",
       "      <td>NaN</td>\n",
       "    </tr>\n",
       "    <tr>\n",
       "      <th>2023-01-04</th>\n",
       "      <td>-0.828507</td>\n",
       "      <td>-1.883435</td>\n",
       "      <td>-1.204261</td>\n",
       "      <td>-0.143998</td>\n",
       "      <td>NaN</td>\n",
       "    </tr>\n",
       "    <tr>\n",
       "      <th>2023-01-05</th>\n",
       "      <td>-0.400983</td>\n",
       "      <td>1.382989</td>\n",
       "      <td>-0.007788</td>\n",
       "      <td>0.030533</td>\n",
       "      <td>NaN</td>\n",
       "    </tr>\n",
       "    <tr>\n",
       "      <th>2023-01-06</th>\n",
       "      <td>0.013255</td>\n",
       "      <td>0.520081</td>\n",
       "      <td>1.725528</td>\n",
       "      <td>-1.667882</td>\n",
       "      <td>NaN</td>\n",
       "    </tr>\n",
       "  </tbody>\n",
       "</table>\n",
       "</div>"
      ],
      "text/plain": [
       "                   A         B         C         D   E\n",
       "2023-01-01 -0.955547  0.298039 -1.146234  0.758017 NaN\n",
       "2023-01-02 -0.345336 -0.865250 -1.887181  0.295724 NaN\n",
       "2023-01-03  0.081839  2.604461  1.393615 -0.153449 NaN\n",
       "2023-01-04 -0.828507 -1.883435 -1.204261 -0.143998 NaN\n",
       "2023-01-05 -0.400983  1.382989 -0.007788  0.030533 NaN\n",
       "2023-01-06  0.013255  0.520081  1.725528 -1.667882 NaN"
      ]
     },
     "execution_count": 97,
     "metadata": {},
     "output_type": "execute_result"
    }
   ],
   "source": [
    "# 'E' 열 생성 후 값을 NaN(not a number)로 채움\n",
    "df['E'] = np.nan\n",
    "df"
   ]
  },
  {
   "cell_type": "code",
   "execution_count": 98,
   "id": "e3a271d5-25bc-47e0-8e38-81044b796a8e",
   "metadata": {},
   "outputs": [
    {
     "data": {
      "text/html": [
       "<div>\n",
       "<style scoped>\n",
       "    .dataframe tbody tr th:only-of-type {\n",
       "        vertical-align: middle;\n",
       "    }\n",
       "\n",
       "    .dataframe tbody tr th {\n",
       "        vertical-align: top;\n",
       "    }\n",
       "\n",
       "    .dataframe thead th {\n",
       "        text-align: right;\n",
       "    }\n",
       "</style>\n",
       "<table border=\"1\" class=\"dataframe\">\n",
       "  <thead>\n",
       "    <tr style=\"text-align: right;\">\n",
       "      <th></th>\n",
       "      <th>A</th>\n",
       "      <th>B</th>\n",
       "      <th>C</th>\n",
       "      <th>D</th>\n",
       "      <th>E</th>\n",
       "    </tr>\n",
       "  </thead>\n",
       "  <tbody>\n",
       "    <tr>\n",
       "      <th>2023-01-01</th>\n",
       "      <td>-0.955547</td>\n",
       "      <td>0.298039</td>\n",
       "      <td>-1.146234</td>\n",
       "      <td>0.758017</td>\n",
       "      <td>NaN</td>\n",
       "    </tr>\n",
       "    <tr>\n",
       "      <th>2023-01-02</th>\n",
       "      <td>-0.345336</td>\n",
       "      <td>-0.865250</td>\n",
       "      <td>-1.887181</td>\n",
       "      <td>0.295724</td>\n",
       "      <td>2.0</td>\n",
       "    </tr>\n",
       "    <tr>\n",
       "      <th>2023-01-03</th>\n",
       "      <td>0.081839</td>\n",
       "      <td>2.604461</td>\n",
       "      <td>1.393615</td>\n",
       "      <td>-0.153449</td>\n",
       "      <td>NaN</td>\n",
       "    </tr>\n",
       "    <tr>\n",
       "      <th>2023-01-04</th>\n",
       "      <td>-0.828507</td>\n",
       "      <td>-1.883435</td>\n",
       "      <td>-1.204261</td>\n",
       "      <td>-0.143998</td>\n",
       "      <td>NaN</td>\n",
       "    </tr>\n",
       "    <tr>\n",
       "      <th>2023-01-05</th>\n",
       "      <td>-0.400983</td>\n",
       "      <td>1.382989</td>\n",
       "      <td>-0.007788</td>\n",
       "      <td>0.030533</td>\n",
       "      <td>NaN</td>\n",
       "    </tr>\n",
       "    <tr>\n",
       "      <th>2023-01-06</th>\n",
       "      <td>0.013255</td>\n",
       "      <td>0.520081</td>\n",
       "      <td>1.725528</td>\n",
       "      <td>-1.667882</td>\n",
       "      <td>NaN</td>\n",
       "    </tr>\n",
       "  </tbody>\n",
       "</table>\n",
       "</div>"
      ],
      "text/plain": [
       "                   A         B         C         D    E\n",
       "2023-01-01 -0.955547  0.298039 -1.146234  0.758017  NaN\n",
       "2023-01-02 -0.345336 -0.865250 -1.887181  0.295724  2.0\n",
       "2023-01-03  0.081839  2.604461  1.393615 -0.153449  NaN\n",
       "2023-01-04 -0.828507 -1.883435 -1.204261 -0.143998  NaN\n",
       "2023-01-05 -0.400983  1.382989 -0.007788  0.030533  NaN\n",
       "2023-01-06  0.013255  0.520081  1.725528 -1.667882  NaN"
      ]
     },
     "execution_count": 98,
     "metadata": {},
     "output_type": "execute_result"
    }
   ],
   "source": [
    "df.loc['2023-01-02', ['E']] = 2\n",
    "df"
   ]
  },
  {
   "cell_type": "code",
   "execution_count": 99,
   "id": "b5842bf1-909c-4391-b0e7-4d70d26408f6",
   "metadata": {},
   "outputs": [
    {
     "data": {
      "text/html": [
       "<div>\n",
       "<style scoped>\n",
       "    .dataframe tbody tr th:only-of-type {\n",
       "        vertical-align: middle;\n",
       "    }\n",
       "\n",
       "    .dataframe tbody tr th {\n",
       "        vertical-align: top;\n",
       "    }\n",
       "\n",
       "    .dataframe thead th {\n",
       "        text-align: right;\n",
       "    }\n",
       "</style>\n",
       "<table border=\"1\" class=\"dataframe\">\n",
       "  <thead>\n",
       "    <tr style=\"text-align: right;\">\n",
       "      <th></th>\n",
       "      <th>A</th>\n",
       "      <th>B</th>\n",
       "      <th>C</th>\n",
       "      <th>D</th>\n",
       "      <th>E</th>\n",
       "      <th>F</th>\n",
       "    </tr>\n",
       "  </thead>\n",
       "  <tbody>\n",
       "    <tr>\n",
       "      <th>2023-01-01</th>\n",
       "      <td>-0.955547</td>\n",
       "      <td>0.298039</td>\n",
       "      <td>-1.146234</td>\n",
       "      <td>0.758017</td>\n",
       "      <td>NaN</td>\n",
       "      <td>-0.657507</td>\n",
       "    </tr>\n",
       "    <tr>\n",
       "      <th>2023-01-02</th>\n",
       "      <td>-0.345336</td>\n",
       "      <td>-0.865250</td>\n",
       "      <td>-1.887181</td>\n",
       "      <td>0.295724</td>\n",
       "      <td>2.0</td>\n",
       "      <td>-1.210586</td>\n",
       "    </tr>\n",
       "    <tr>\n",
       "      <th>2023-01-03</th>\n",
       "      <td>0.081839</td>\n",
       "      <td>2.604461</td>\n",
       "      <td>1.393615</td>\n",
       "      <td>-0.153449</td>\n",
       "      <td>NaN</td>\n",
       "      <td>2.686300</td>\n",
       "    </tr>\n",
       "    <tr>\n",
       "      <th>2023-01-04</th>\n",
       "      <td>-0.828507</td>\n",
       "      <td>-1.883435</td>\n",
       "      <td>-1.204261</td>\n",
       "      <td>-0.143998</td>\n",
       "      <td>NaN</td>\n",
       "      <td>-2.711942</td>\n",
       "    </tr>\n",
       "    <tr>\n",
       "      <th>2023-01-05</th>\n",
       "      <td>-0.400983</td>\n",
       "      <td>1.382989</td>\n",
       "      <td>-0.007788</td>\n",
       "      <td>0.030533</td>\n",
       "      <td>NaN</td>\n",
       "      <td>0.982006</td>\n",
       "    </tr>\n",
       "    <tr>\n",
       "      <th>2023-01-06</th>\n",
       "      <td>0.013255</td>\n",
       "      <td>0.520081</td>\n",
       "      <td>1.725528</td>\n",
       "      <td>-1.667882</td>\n",
       "      <td>NaN</td>\n",
       "      <td>0.533336</td>\n",
       "    </tr>\n",
       "  </tbody>\n",
       "</table>\n",
       "</div>"
      ],
      "text/plain": [
       "                   A         B         C         D    E         F\n",
       "2023-01-01 -0.955547  0.298039 -1.146234  0.758017  NaN -0.657507\n",
       "2023-01-02 -0.345336 -0.865250 -1.887181  0.295724  2.0 -1.210586\n",
       "2023-01-03  0.081839  2.604461  1.393615 -0.153449  NaN  2.686300\n",
       "2023-01-04 -0.828507 -1.883435 -1.204261 -0.143998  NaN -2.711942\n",
       "2023-01-05 -0.400983  1.382989 -0.007788  0.030533  NaN  0.982006\n",
       "2023-01-06  0.013255  0.520081  1.725528 -1.667882  NaN  0.533336"
      ]
     },
     "execution_count": 99,
     "metadata": {},
     "output_type": "execute_result"
    }
   ],
   "source": [
    "df['F'] = df['A'] + df['B']\n",
    "df"
   ]
  }
 ],
 "metadata": {
  "kernelspec": {
   "display_name": "Python 3 (ipykernel)",
   "language": "python",
   "name": "python3"
  },
  "language_info": {
   "codemirror_mode": {
    "name": "ipython",
    "version": 3
   },
   "file_extension": ".py",
   "mimetype": "text/x-python",
   "name": "python",
   "nbconvert_exporter": "python",
   "pygments_lexer": "ipython3",
   "version": "3.9.13"
  }
 },
 "nbformat": 4,
 "nbformat_minor": 5
}

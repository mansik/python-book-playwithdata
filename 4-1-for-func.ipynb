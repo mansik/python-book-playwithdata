{
 "cells": [
  {
   "cell_type": "markdown",
   "id": "475739f9-9e9f-48fe-90a1-45496a7fc2f7",
   "metadata": {},
   "source": [
    "# for 문"
   ]
  },
  {
   "cell_type": "code",
   "execution_count": 8,
   "id": "09d3757d-0f40-4895-988b-6b903f5b022c",
   "metadata": {},
   "outputs": [
    {
     "name": "stdout",
     "output_type": "stream",
     "text": [
      "1\n",
      "4\n",
      "9\n",
      "16\n",
      "25\n"
     ]
    }
   ],
   "source": [
    "for n in [1, 2, 3, 4, 5]:\n",
    "    print(n**2)"
   ]
  },
  {
   "cell_type": "code",
   "execution_count": 9,
   "id": "984867f8-99db-43e4-8703-ed5e8dd43b9c",
   "metadata": {},
   "outputs": [
    {
     "data": {
      "text/plain": [
       "[1, 4, 9, 16, 25]"
      ]
     },
     "execution_count": 9,
     "metadata": {},
     "output_type": "execute_result"
    }
   ],
   "source": [
    "[n**2 for n in range(1,6)]"
   ]
  },
  {
   "cell_type": "markdown",
   "id": "7fd2b03f-3f5b-4b82-af3e-f5fa823b9813",
   "metadata": {},
   "source": [
    "# 함수"
   ]
  },
  {
   "cell_type": "code",
   "execution_count": 10,
   "id": "ca4ce38d-5fb3-4941-985d-7fd2215666a8",
   "metadata": {},
   "outputs": [],
   "source": [
    "def get_square(n):\n",
    "    return n**2"
   ]
  },
  {
   "cell_type": "code",
   "execution_count": 11,
   "id": "91e7dec5-c6ad-4db6-8ae9-abdc332cc258",
   "metadata": {
    "collapsed": true,
    "jupyter": {
     "outputs_hidden": true
    },
    "tags": []
   },
   "outputs": [
    {
     "data": {
      "text/plain": [
       "[1, 4, 9, 16]"
      ]
     },
     "execution_count": 11,
     "metadata": {},
     "output_type": "execute_result"
    }
   ],
   "source": [
    "[get_square(n) for n in [1, 2, 3, 4]]"
   ]
  }
 ],
 "metadata": {
  "kernelspec": {
   "display_name": "Python 3 (ipykernel)",
   "language": "python",
   "name": "python3"
  },
  "language_info": {
   "codemirror_mode": {
    "name": "ipython",
    "version": 3
   },
   "file_extension": ".py",
   "mimetype": "text/x-python",
   "name": "python",
   "nbconvert_exporter": "python",
   "pygments_lexer": "ipython3",
   "version": "3.9.13"
  }
 },
 "nbformat": 4,
 "nbformat_minor": 5
}

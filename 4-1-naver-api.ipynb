{
 "cells": [
  {
   "cell_type": "markdown",
   "id": "06a9c708-4324-4350-a1d0-5cacf127bbcc",
   "metadata": {
    "tags": []
   },
   "source": [
    "# 네이버 api 간단히 사용해 보기\n",
    "\n",
    "- https://developers.naver.com 에서 '서비스 api' 신청후 client_id, client_secret 를 할당 받음"
   ]
  },
  {
   "cell_type": "code",
   "execution_count": 1,
   "id": "37ba41ba-2c1d-43b4-b22c-ae6b6d4d0b1a",
   "metadata": {},
   "outputs": [],
   "source": [
    "import pandas as pd\n",
    "import urllib.request"
   ]
  },
  {
   "cell_type": "code",
   "execution_count": 2,
   "id": "b7842f8b-b72d-4fb3-8f99-1bf4e8144821",
   "metadata": {},
   "outputs": [],
   "source": [
    "client_id = 'REP1TZBeRylwIL5uzjqy'\n",
    "client_secret = 'aXWw3fsfEF'"
   ]
  },
  {
   "cell_type": "code",
   "execution_count": 3,
   "id": "14886ac2-59b9-4b7f-a456-64f23fd7d69c",
   "metadata": {},
   "outputs": [
    {
     "data": {
      "text/plain": [
       "'https://openapi.naver.com/v1/search/blog?query=pinkwink'"
      ]
     },
     "execution_count": 3,
     "metadata": {},
     "output_type": "execute_result"
    }
   ],
   "source": [
    "encText = urllib.parse.quote('pinkwink')\n",
    "url = \"https://openapi.naver.com/v1/search/blog?query=\" + encText # JSON 결과\n",
    "url"
   ]
  },
  {
   "cell_type": "code",
   "execution_count": 4,
   "id": "aab4c996-63c5-4144-b9e6-7a8afadb61ab",
   "metadata": {},
   "outputs": [],
   "source": [
    "request = urllib.request.Request(url)\n",
    "request.add_header(\"X-Naver-Client-Id\",client_id)\n",
    "request.add_header(\"X-Naver-Client-Secret\",client_secret)"
   ]
  },
  {
   "cell_type": "code",
   "execution_count": 5,
   "id": "b623051d-e69c-49dd-87ce-dcc22a48ec60",
   "metadata": {},
   "outputs": [
    {
     "name": "stdout",
     "output_type": "stream",
     "text": [
      "200\n"
     ]
    }
   ],
   "source": [
    "response = urllib.request.urlopen(request)\n",
    "print(response.getcode())  # 정상이면  return 200"
   ]
  },
  {
   "cell_type": "code",
   "execution_count": 6,
   "id": "d815a2a2-ad50-4200-acd4-7ad6c9952c55",
   "metadata": {},
   "outputs": [
    {
     "data": {
      "text/plain": [
       "http.client.HTTPResponse"
      ]
     },
     "execution_count": 6,
     "metadata": {},
     "output_type": "execute_result"
    }
   ],
   "source": [
    "type(response)"
   ]
  },
  {
   "cell_type": "code",
   "execution_count": 7,
   "id": "0573935e-6966-43c8-a6eb-680db0e3af9d",
   "metadata": {},
   "outputs": [
    {
     "name": "stdout",
     "output_type": "stream",
     "text": [
      "{\n",
      "\t\"lastBuildDate\":\"Thu, 19 Jan 2023 21:33:58 +0900\",\n",
      "\t\"total\":740,\n",
      "\t\"start\":1,\n",
      "\t\"display\":10,\n",
      "\t\"items\":[\n",
      "\t\t{\n",
      "\t\t\t\"title\":\"핑크윙크 <b>PinkWink<\\/b>가 핑크랩 PinkLAB을 만들었습니다.\",\n",
      "\t\t\t\"link\":\"https:\\/\\/pinkwink.kr\\/1386\",\n",
      "\t\t\t\"description\":\"당시 강의에 대한 감상은 &quot;<b>PinkWink<\\/b>가 토요일마다 강의를 합니다.&quot;라는 글로 한참 후인 2019년에... 그래서 오늘은 저 <b>PinkWink<\\/b>가 설립한 PinkLAB을 간단히 소개하려고 합니다. PinkLAB 홈페이지 - https:\\/\\/www.pinklab.art... \",\n",
      "\t\t\t\"bloggername\":\"PinkWink\",\n",
      "\t\t\t\"bloggerlink\":\"https:\\/\\/pinkwink.kr\\/\",\n",
      "\t\t\t\"postdate\":\"20220606\"\n",
      "\t\t},\n",
      "\t\t{\n",
      "\t\t\t\"title\":\"<b>PinkWink<\\/b> darknet_ros, jetpack4.5.1에서 빌드 실패\",\n",
      "\t\t\t\"link\":\"https:\\/\\/blog.naver.com\\/zeta0807\\/222461538224\",\n",
      "\t\t\t\"description\":\"site\\/BLDC-fbd4f8bd75424563b074d8adb3c858fa https:\\/\\/<b>pinkwink<\\/b>.kr\\/1342을 참고하면 Jetson Nano... darknet_ros 다운로드 아래 명령어로 <b>PinkWink<\\/b> darknet_ros를 내려받았다. git clone... \",\n",
      "\t\t\t\"bloggername\":\"제타의 AIoT 나들이\",\n",
      "\t\t\t\"bloggerlink\":\"blog.naver.com\\/zeta0807\",\n",
      "\t\t\t\"postdate\":\"20210808\"\n",
      "\t\t},\n",
      "\t\t{\n",
      "\t\t\t\"title\":\"<b>PinkWink<\\/b> 블로그에서 온 선물..\",\n",
      "\t\t\t\"link\":\"https:\\/\\/blog.naver.com\\/chandong83\\/221531853244\",\n",
      "\t\t\t\"description\":\"국내 최고 아이티 블로그인 <b>PinkWink<\\/b> 블로거이신 민형기 박사님께서 선물을 보내주셨다~ 크.. 이런 영광이!!!! 잘 쓰겠습니다~ 박사님!!! 나도 나중에 블로그 잘 운영해서 이런 선물도 나눠줘 보고 싶다~~ㅋ 요즘... \",\n",
      "\t\t\t\"bloggername\":\"하이! 제니스\",\n",
      "\t\t\t\"bloggerlink\":\"blog.naver.com\\/chandong83\",\n",
      "\t\t\t\"postdate\":\"20190507\"\n",
      "\t\t},\n",
      "\t\t{\n",
      "\t\t\t\"title\":\"<b>PinkWink<\\/b>님의 DC모터 시정수 구하기.\",\n",
      "\t\t\t\"link\":\"https:\\/\\/blog.naver.com\\/hjh2578\\/222172280836\",\n",
      "\t\t\t\"description\":\"현재 밸런싱 봇 제작에 난항을 겪고 있어 해당 시정수를 측정하기 위한 방법을 구글링 해두었음 https:\\/\\/<b>pinkwink<\\/b>.kr\\/336 현재 갖고 있는 밸런싱봇에는 MCP4922라는 DA컨버터를 별도로 설계하여... \",\n",
      "\t\t\t\"bloggername\":\"닥현의 회로연구\",\n",
      "\t\t\t\"bloggerlink\":\"blog.naver.com\\/hjh2578\",\n",
      "\t\t\t\"postdate\":\"20201213\"\n",
      "\t\t},\n",
      "\t\t{\n",
      "\t\t\t\"title\":\"<b>PinkWink<\\/b>가 좋아하는 전자기기들을 소개합니다 ~~ ^^\",\n",
      "\t\t\t\"link\":\"https:\\/\\/pinkwink.tistory.com\\/701\",\n",
      "\t\t\t\"description\":\"그리고 저 <b>PinkWink<\\/b>도 이제 마흔이 되었답니다.ㅠㅠ. 에휴.. 마흔... 뭐 한국 나이는 두 종류이고.. 아직... 저 <b>PinkWink<\\/b>가 2012년 가을에 결혼을 했었는데요..[바로가기] 늦은 결혼이었지요^^ 그때 저는 신혼여행에서... \",\n",
      "\t\t\t\"bloggername\":\"PinkWink\",\n",
      "\t\t\t\"bloggerlink\":\"https:\\/\\/pinkwink.tistory.com\\/\",\n",
      "\t\t\t\"postdate\":\"20150612\"\n",
      "\t\t},\n",
      "\t\t{\n",
      "\t\t\t\"title\":\"자료 주소, <b>PinkWink<\\/b>, DataScience; 시카고 샌드위치 맛집 주소\",\n",
      "\t\t\t\"link\":\"https:\\/\\/blog.naver.com\\/doitnow-company\\/222090851064\",\n",
      "\t\t\t\"description\":\"책(파이썬으로 데이터 주무르기) 내용 자료 주소, <b>PinkWink<\\/b>, DataScience #3장 #시카고 #샌드위치 #맛집 #분석 #주소 - 교재 발간당시와 현재의 웹페이지가 바뀌어서, 교재에... \",\n",
      "\t\t\t\"bloggername\":\"날마다 성장하는 즐거움\",\n",
      "\t\t\t\"bloggerlink\":\"blog.naver.com\\/doitnow-company\",\n",
      "\t\t\t\"postdate\":\"20200916\"\n",
      "\t\t},\n",
      "\t\t{\n",
      "\t\t\t\"title\":\"[공유] <b>PinkWink<\\/b> :: 저역통과필터와 고역통과필터를 C로 구현\",\n",
      "\t\t\t\"link\":\"https:\\/\\/blog.naver.com\\/kangusreport\\/221870399107\",\n",
      "\t\t\t\"description\":\"<b>PinkWink<\\/b> :: 저역통과필터와 고역통과필터를 C로 구현\",\n",
      "\t\t\t\"bloggername\":\"Dex Note\",\n",
      "\t\t\t\"bloggerlink\":\"blog.naver.com\\/kangusreport\",\n",
      "\t\t\t\"postdate\":\"20200324\"\n",
      "\t\t},\n",
      "\t\t{\n",
      "\t\t\t\"title\":\"[공유] <b>PinkWink<\\/b> :: Python에서 OpenCV를 이용해서... \",\n",
      "\t\t\t\"link\":\"https:\\/\\/blog.naver.com\\/hersheythings\\/222221161855\",\n",
      "\t\t\t\"description\":\"<b>PinkWink<\\/b> :: Python에서 OpenCV를 이용해서 초간편하게 사람 얼굴, 몸을 인식하기\",\n",
      "\t\t\t\"bloggername\":\"Capital and Freedom\",\n",
      "\t\t\t\"bloggerlink\":\"blog.naver.com\\/hersheythings\",\n",
      "\t\t\t\"postdate\":\"20210127\"\n",
      "\t\t},\n",
      "\t\t{\n",
      "\t\t\t\"title\":\"<b>PinkWink<\\/b>님의 미바뤼 돌촬영 후기 :)\",\n",
      "\t\t\t\"link\":\"https:\\/\\/blog.naver.com\\/creta01\\/220191244266\",\n",
      "\t\t\t\"description\":\"원본출처 : <b>PinkWink<\\/b>님 블로그 :) http:\\/\\/<b>pinkwink<\\/b>.kr\\/678\",\n",
      "\t\t\t\"bloggername\":\"A moment in life\",\n",
      "\t\t\t\"bloggerlink\":\"blog.naver.com\\/creta01\",\n",
      "\t\t\t\"postdate\":\"20141125\"\n",
      "\t\t},\n",
      "\t\t{\n",
      "\t\t\t\"title\":\"http:\\/\\/<b>pinkwink<\\/b>.kr\\/218\",\n",
      "\t\t\t\"link\":\"https:\\/\\/blog.naver.com\\/2danzee\\/220548423642\",\n",
      "\t\t\t\"description\":\"http:\\/\\/<b>pinkwink<\\/b>.kr\\/218\",\n",
      "\t\t\t\"bloggername\":\"2danzee님의블로그\",\n",
      "\t\t\t\"bloggerlink\":\"blog.naver.com\\/2danzee\",\n",
      "\t\t\t\"postdate\":\"20151124\"\n",
      "\t\t}\n",
      "\t]\n",
      "}\n"
     ]
    }
   ],
   "source": [
    "rescode = response.getcode()\n",
    "if(rescode==200):\n",
    "    response_body = response.read()\n",
    "    print(response_body.decode('utf-8'))\n",
    "else:\n",
    "    print(\"Error Code:\" + rescode)"
   ]
  },
  {
   "cell_type": "markdown",
   "id": "a6b1365e-dc21-4485-9657-787b9cb6deb4",
   "metadata": {},
   "source": [
    "# for 문"
   ]
  },
  {
   "cell_type": "code",
   "execution_count": 8,
   "id": "dc049084-9d3f-4af0-91ff-8b4bd549d9df",
   "metadata": {},
   "outputs": [
    {
     "name": "stdout",
     "output_type": "stream",
     "text": [
      "1\n",
      "4\n",
      "9\n",
      "16\n",
      "25\n"
     ]
    }
   ],
   "source": [
    "for n in [1, 2, 3, 4, 5]:\n",
    "    print(n**2)"
   ]
  },
  {
   "cell_type": "code",
   "execution_count": 9,
   "id": "038e426f-f1cb-462f-aa22-5548890f2ca8",
   "metadata": {},
   "outputs": [
    {
     "data": {
      "text/plain": [
       "[1, 4, 9, 16, 25]"
      ]
     },
     "execution_count": 9,
     "metadata": {},
     "output_type": "execute_result"
    }
   ],
   "source": [
    "[n**2 for n in range(1,6)]"
   ]
  },
  {
   "cell_type": "markdown",
   "id": "3e80b226-7f55-43a4-8b83-903a07295847",
   "metadata": {},
   "source": [
    "# 함수"
   ]
  },
  {
   "cell_type": "code",
   "execution_count": 10,
   "id": "453b4074-62f3-4780-82e5-2bb9d639f371",
   "metadata": {},
   "outputs": [],
   "source": [
    "def get_square(n):\n",
    "    return n**2"
   ]
  },
  {
   "cell_type": "code",
   "execution_count": 11,
   "id": "a8c2138b-e4b4-49bc-9997-9b430b0b352c",
   "metadata": {},
   "outputs": [
    {
     "data": {
      "text/plain": [
       "[1, 4, 9, 16]"
      ]
     },
     "execution_count": 11,
     "metadata": {},
     "output_type": "execute_result"
    }
   ],
   "source": [
    "[get_square(n) for n in [1, 2, 3, 4]]"
   ]
  },
  {
   "cell_type": "markdown",
   "id": "09163a88-4de2-4d16-97ed-fcc2d4a11695",
   "metadata": {},
   "source": [
    "# dataframe.concat()\n",
    "\n",
    "* oncat(): 데이터의 속성 형태가 동일한 데이터셋(homogeneously-typed objects)끼리 합칠 때"
   ]
  },
  {
   "cell_type": "code",
   "execution_count": 12,
   "id": "266709d1-dff8-4ddd-8cd6-2d6602e50b61",
   "metadata": {},
   "outputs": [
    {
     "data": {
      "text/html": [
       "<div>\n",
       "<style scoped>\n",
       "    .dataframe tbody tr th:only-of-type {\n",
       "        vertical-align: middle;\n",
       "    }\n",
       "\n",
       "    .dataframe tbody tr th {\n",
       "        vertical-align: top;\n",
       "    }\n",
       "\n",
       "    .dataframe thead th {\n",
       "        text-align: right;\n",
       "    }\n",
       "</style>\n",
       "<table border=\"1\" class=\"dataframe\">\n",
       "  <thead>\n",
       "    <tr style=\"text-align: right;\">\n",
       "      <th></th>\n",
       "      <th>A</th>\n",
       "      <th>B</th>\n",
       "      <th>C</th>\n",
       "    </tr>\n",
       "  </thead>\n",
       "  <tbody>\n",
       "    <tr>\n",
       "      <th>0</th>\n",
       "      <td>1</td>\n",
       "      <td>2</td>\n",
       "      <td>3</td>\n",
       "    </tr>\n",
       "    <tr>\n",
       "      <th>1</th>\n",
       "      <td>a1</td>\n",
       "      <td>b1</td>\n",
       "      <td>c1</td>\n",
       "    </tr>\n",
       "  </tbody>\n",
       "</table>\n",
       "</div>"
      ],
      "text/plain": [
       "    A   B   C\n",
       "0   1   2   3\n",
       "1  a1  b1  c1"
      ]
     },
     "execution_count": 12,
     "metadata": {},
     "output_type": "execute_result"
    }
   ],
   "source": [
    "df1 = pd.DataFrame([[1, 2, 3],['a1', 'b1', 'c1']], columns=list('ABC'))\n",
    "df1"
   ]
  },
  {
   "cell_type": "code",
   "execution_count": 13,
   "id": "d6760888-38ff-4f47-9446-a946d2ba161f",
   "metadata": {},
   "outputs": [
    {
     "data": {
      "text/html": [
       "<div>\n",
       "<style scoped>\n",
       "    .dataframe tbody tr th:only-of-type {\n",
       "        vertical-align: middle;\n",
       "    }\n",
       "\n",
       "    .dataframe tbody tr th {\n",
       "        vertical-align: top;\n",
       "    }\n",
       "\n",
       "    .dataframe thead th {\n",
       "        text-align: right;\n",
       "    }\n",
       "</style>\n",
       "<table border=\"1\" class=\"dataframe\">\n",
       "  <thead>\n",
       "    <tr style=\"text-align: right;\">\n",
       "      <th></th>\n",
       "      <th>A</th>\n",
       "      <th>B</th>\n",
       "      <th>C</th>\n",
       "    </tr>\n",
       "  </thead>\n",
       "  <tbody>\n",
       "    <tr>\n",
       "      <th>0</th>\n",
       "      <td>4</td>\n",
       "      <td>5</td>\n",
       "      <td>6</td>\n",
       "    </tr>\n",
       "    <tr>\n",
       "      <th>1</th>\n",
       "      <td>a2</td>\n",
       "      <td>b2</td>\n",
       "      <td>c2</td>\n",
       "    </tr>\n",
       "  </tbody>\n",
       "</table>\n",
       "</div>"
      ],
      "text/plain": [
       "    A   B   C\n",
       "0   4   5   6\n",
       "1  a2  b2  c2"
      ]
     },
     "execution_count": 13,
     "metadata": {},
     "output_type": "execute_result"
    }
   ],
   "source": [
    "df2 = pd.DataFrame([[4, 5, 6],['a2', 'b2', 'c2']], columns=list('ABC'))\n",
    "df2"
   ]
  },
  {
   "cell_type": "code",
   "execution_count": 14,
   "id": "ca4ef503-a8fa-476e-8a8f-d1f066c27579",
   "metadata": {},
   "outputs": [
    {
     "data": {
      "text/html": [
       "<div>\n",
       "<style scoped>\n",
       "    .dataframe tbody tr th:only-of-type {\n",
       "        vertical-align: middle;\n",
       "    }\n",
       "\n",
       "    .dataframe tbody tr th {\n",
       "        vertical-align: top;\n",
       "    }\n",
       "\n",
       "    .dataframe thead th {\n",
       "        text-align: right;\n",
       "    }\n",
       "</style>\n",
       "<table border=\"1\" class=\"dataframe\">\n",
       "  <thead>\n",
       "    <tr style=\"text-align: right;\">\n",
       "      <th></th>\n",
       "      <th>A</th>\n",
       "      <th>B</th>\n",
       "      <th>C</th>\n",
       "    </tr>\n",
       "  </thead>\n",
       "  <tbody>\n",
       "    <tr>\n",
       "      <th>0</th>\n",
       "      <td>1</td>\n",
       "      <td>2</td>\n",
       "      <td>3</td>\n",
       "    </tr>\n",
       "    <tr>\n",
       "      <th>1</th>\n",
       "      <td>a1</td>\n",
       "      <td>b1</td>\n",
       "      <td>c1</td>\n",
       "    </tr>\n",
       "    <tr>\n",
       "      <th>0</th>\n",
       "      <td>4</td>\n",
       "      <td>5</td>\n",
       "      <td>6</td>\n",
       "    </tr>\n",
       "    <tr>\n",
       "      <th>1</th>\n",
       "      <td>a2</td>\n",
       "      <td>b2</td>\n",
       "      <td>c2</td>\n",
       "    </tr>\n",
       "  </tbody>\n",
       "</table>\n",
       "</div>"
      ],
      "text/plain": [
       "    A   B   C\n",
       "0   1   2   3\n",
       "1  a1  b1  c1\n",
       "0   4   5   6\n",
       "1  a2  b2  c2"
      ]
     },
     "execution_count": 14,
     "metadata": {},
     "output_type": "execute_result"
    }
   ],
   "source": [
    "pd.concat([df1, df2]) # dataframe을 합침"
   ]
  },
  {
   "cell_type": "markdown",
   "id": "95d85bd5-0cbc-4bc2-ba46-5085bbeaebf3",
   "metadata": {},
   "source": [
    "# 네이버 책 검색에서 정보 가져오기"
   ]
  },
  {
   "cell_type": "code",
   "execution_count": 15,
   "id": "8e973ed3-2a20-4e18-9d11-0755ef14e63a",
   "metadata": {},
   "outputs": [],
   "source": [
    "def create_url(api_node, search_text, start_num, disp_num):\n",
    "    base = \"https://openapi.naver.com/v1/search\"\n",
    "    node = \"/\" + api_node\n",
    "    param_query = \"?query=\" + urllib.parse.quote(search_text)\n",
    "    param_start = \"&start=\" + str(start_num)\n",
    "    param_disp = \"&display=\" + str(disp_num)\n",
    "    \n",
    "    return base + node + param_query + param_start + param_disp"
   ]
  },
  {
   "cell_type": "code",
   "execution_count": 16,
   "id": "d9904690-4dfb-465f-b54f-d33c042ec0c7",
   "metadata": {},
   "outputs": [
    {
     "data": {
      "text/plain": [
       "'https://openapi.naver.com/v1/search/book?query=TEST&start=1&display=10'"
      ]
     },
     "execution_count": 16,
     "metadata": {},
     "output_type": "execute_result"
    }
   ],
   "source": [
    "create_url(\"book\", \"TEST\", 1, 10)"
   ]
  },
  {
   "cell_type": "code",
   "execution_count": 17,
   "id": "6508e79a-91d1-4768-bbf5-c7d9add23619",
   "metadata": {},
   "outputs": [
    {
     "data": {
      "text/plain": [
       "{'lastBuildDate': 'Thu, 19 Jan 2023 21:33:59 +0900',\n",
       " 'total': 822,\n",
       " 'start': 1,\n",
       " 'display': 3,\n",
       " 'items': [{'title': '혼자 공부하는 파이썬 (1:1 과외하듯 배우는 프로그래밍 자습서)',\n",
       "   'link': 'https://search.shopping.naver.com/book/catalog/32507605957',\n",
       "   'image': 'https://shopping-phinf.pstatic.net/main_3250760/32507605957.20221019133018.jpg',\n",
       "   'author': '윤인성',\n",
       "   'discount': '19800',\n",
       "   'publisher': '한빛미디어',\n",
       "   'pubdate': '20220601',\n",
       "   'isbn': '9791162245651',\n",
       "   'description': '『혼자 공부하는 파이썬』이 더욱 흥미있고 알찬 내용으로 개정되었습니다. 프로그래밍이 정말 처음인 입문자도 따라갈 수 있는 친절한 설명과 단계별 학습은 그대로! 혼자 공부하더라도 체계적으로 계획을 세워 학습할 수 있도록 ‘혼공 계획표’를 새롭게 추가했습니다. 또한 입문자가 자주 물어보는 질문과 오류 해결 방법을 적재적소에 배치하여 예상치 못한 문제에 부딪혀도 좌절하지 않고 끝까지 완독할 수 있도록 도와줍니다. 단순한 문법 암기와 코딩 따라하기에 지쳤다면, 새로운 혼공파와 함께 ‘누적 예제’와 ‘도전 문제’로 프로그래밍의 신세계를 경험해 보세요! 배운 내용을 씹고 뜯고 맛보고 즐기다 보면 응용력은 물론 알고리즘 사고력까지 키워 코딩 실력이 쑥쑥 성장할 것입니다.\\n\\n혼자 해도 충분하다! 1:1 과외하듯 배우는 파이썬 프로그래밍 자습서\\n이 책은 독학으로 파이썬을 배우는 입문자가 ‘꼭 필요한 내용을 제대로 학습’할 수 있도록 구성했습니다. 뭘 모르는지조차 모르는 입문자의 막연한 마음에 십분 공감하여 과외 선생님이 알려주듯 친절하게, 핵심적인 내용만 콕콕 집어줍니다. 책의 첫 페이지를 펼쳐서 마지막 페이지를 덮을 때까지, 혼자서도 충분히 파이썬을 배울 수 있다는 자신감과 확신이 계속될 것입니다!\\n\\n베타리더 검증으로, ‘함께 만든’ 입문자 맞춤형 도서\\n베타리더와 함께 입문자에게 맞는 난이도, 분량, 학습 요소 등을 적극 반영했습니다. 어려운 용어와 개념은 한 번 더 풀어쓰고, 복잡한 설명은 눈에 잘 들어오는 그림으로 풀어냈습니다. ‘혼자 공부해 본’ 여러 입문자의 초심과 눈높이가 책 곳곳에 반영된 것이 이 책의 가장 큰 장점입니다.'},\n",
       "  {'title': '파이썬과 40개의 작품들 (자동화, 크롤링, 이미지처리, 데이터분석, 웹페이지, GUI 프로그램, 게임)',\n",
       "   'link': 'https://search.shopping.naver.com/book/catalog/32472041705',\n",
       "   'image': 'https://shopping-phinf.pstatic.net/main_3247204/32472041705.20221019105332.jpg',\n",
       "   'author': '장문철',\n",
       "   'discount': '16920',\n",
       "   'publisher': '앤써북',\n",
       "   'pubdate': '20220228',\n",
       "   'isbn': '9791185553931',\n",
       "   'description': '이 책은 내 업무와 생활에 바로 적용할 수 있는 40개의 프로그램을 직접 코딩해서 만들어보고, 동시에 파이썬을 자연스럽게 이해할 수 있게 구성하였다!\\n\\n파이썬 기초 문법 떼고 자동화, 크롤링, 이미지처리, 데이터분석, 웹페이지, GUI 프로그램, 게임, 인공지능 관련 40개 프로그램 직접 파이썬 코딩하며 만들어 본다.  \\n\\n이 책은 파이썬 기초 문법을 익힌 후 총 40개의 주제별 프로그램을 직접 코딩하며 만들어볼 수 있도록 구성하였다.'},\n",
       "  {'title': 'Do it! 알고리즘 코딩 테스트: 파이썬 편 (코딩 테스트를 처음 준비하는 취준생의 필독서!)',\n",
       "   'link': 'https://search.shopping.naver.com/book/catalog/33938438618',\n",
       "   'image': 'https://shopping-phinf.pstatic.net/main_3393843/33938438618.20230117163208.jpg',\n",
       "   'author': '김종관',\n",
       "   'discount': '28800',\n",
       "   'publisher': '이지스퍼블리싱',\n",
       "   'pubdate': '20220816',\n",
       "   'isbn': '9791163033936',\n",
       "   'description': '기출 유형 분석부터 문제 풀이 비법까지\\n코딩 테스트를 처음 준비하는 IT 기업 취준생의 필독서!\\n\\n“코딩 테스트를 제대로 준비하려면 어떤 문제를 얼마나 풀어야 할까?” 곧 코딩 테스트를 앞둔 취업 또는 이직 준비생이라면 누구나 이런 고민을 할 것이다. 《Do it! 알고리즘 코딩 테스트 - 파이썬 편》에 그 답이 있다. 네이버, 카카오, 삼성, 라인 등 주요 IT 기업의 시험에 나오는 알고리즘 내용이 모두 담겨 있어 책 한 권만으로 코딩 테스트 합격에 필요한 지식을 충분히 공부할 수 있다. 책에 수록된 알고리즘 문제 100개는 모두 최신 기출 유형을 반영하고 있어서 이 책의 문제만 다 풀면 당장 코딩 테스트를 볼 수 있는 수준까지 실력을 갖출 수 있다. 모든 문제는 ‘분석, 전략, 슈도코드, 코드 구현’까지 총 4단계를 거쳐 푸는데, 이렇게 문제를 푸는 습관까지 자기 것으로 만든다면 진짜 시험에서 어떤 문제를 만나든 실수 없이 해결할 수 있을 것이다.'}]}"
      ]
     },
     "execution_count": 17,
     "metadata": {},
     "output_type": "execute_result"
    }
   ],
   "source": [
    "import json\n",
    "\n",
    "client_id = 'REP1TZBeRylwIL5uzjqy'\n",
    "client_secret = 'aXWw3fsfEF'\n",
    "\n",
    "url = create_url(\"book\", \"파이썬\", 1, 3)\n",
    "\n",
    "request = urllib.request.Request(url)\n",
    "request.add_header(\"X-Naver-Client-Id\",client_id)\n",
    "request.add_header(\"X-Naver-Client-Secret\",client_secret)\n",
    "\n",
    "response = urllib.request.urlopen(request)\n",
    "\n",
    "result = json.loads(response.read().decode(\"utf-8\"))\n",
    "result                    "
   ]
  },
  {
   "cell_type": "code",
   "execution_count": 18,
   "id": "fb89e6c1-c26f-404b-bc51-940dfa15c2c2",
   "metadata": {},
   "outputs": [
    {
     "data": {
      "text/plain": [
       "3"
      ]
     },
     "execution_count": 18,
     "metadata": {},
     "output_type": "execute_result"
    }
   ],
   "source": [
    "result['display']"
   ]
  },
  {
   "cell_type": "code",
   "execution_count": 19,
   "id": "16d9364e-5be5-43a2-b12a-118fde4be1d0",
   "metadata": {},
   "outputs": [
    {
     "data": {
      "text/plain": [
       "[{'title': '혼자 공부하는 파이썬 (1:1 과외하듯 배우는 프로그래밍 자습서)',\n",
       "  'link': 'https://search.shopping.naver.com/book/catalog/32507605957',\n",
       "  'image': 'https://shopping-phinf.pstatic.net/main_3250760/32507605957.20221019133018.jpg',\n",
       "  'author': '윤인성',\n",
       "  'discount': '19800',\n",
       "  'publisher': '한빛미디어',\n",
       "  'pubdate': '20220601',\n",
       "  'isbn': '9791162245651',\n",
       "  'description': '『혼자 공부하는 파이썬』이 더욱 흥미있고 알찬 내용으로 개정되었습니다. 프로그래밍이 정말 처음인 입문자도 따라갈 수 있는 친절한 설명과 단계별 학습은 그대로! 혼자 공부하더라도 체계적으로 계획을 세워 학습할 수 있도록 ‘혼공 계획표’를 새롭게 추가했습니다. 또한 입문자가 자주 물어보는 질문과 오류 해결 방법을 적재적소에 배치하여 예상치 못한 문제에 부딪혀도 좌절하지 않고 끝까지 완독할 수 있도록 도와줍니다. 단순한 문법 암기와 코딩 따라하기에 지쳤다면, 새로운 혼공파와 함께 ‘누적 예제’와 ‘도전 문제’로 프로그래밍의 신세계를 경험해 보세요! 배운 내용을 씹고 뜯고 맛보고 즐기다 보면 응용력은 물론 알고리즘 사고력까지 키워 코딩 실력이 쑥쑥 성장할 것입니다.\\n\\n혼자 해도 충분하다! 1:1 과외하듯 배우는 파이썬 프로그래밍 자습서\\n이 책은 독학으로 파이썬을 배우는 입문자가 ‘꼭 필요한 내용을 제대로 학습’할 수 있도록 구성했습니다. 뭘 모르는지조차 모르는 입문자의 막연한 마음에 십분 공감하여 과외 선생님이 알려주듯 친절하게, 핵심적인 내용만 콕콕 집어줍니다. 책의 첫 페이지를 펼쳐서 마지막 페이지를 덮을 때까지, 혼자서도 충분히 파이썬을 배울 수 있다는 자신감과 확신이 계속될 것입니다!\\n\\n베타리더 검증으로, ‘함께 만든’ 입문자 맞춤형 도서\\n베타리더와 함께 입문자에게 맞는 난이도, 분량, 학습 요소 등을 적극 반영했습니다. 어려운 용어와 개념은 한 번 더 풀어쓰고, 복잡한 설명은 눈에 잘 들어오는 그림으로 풀어냈습니다. ‘혼자 공부해 본’ 여러 입문자의 초심과 눈높이가 책 곳곳에 반영된 것이 이 책의 가장 큰 장점입니다.'},\n",
       " {'title': '파이썬과 40개의 작품들 (자동화, 크롤링, 이미지처리, 데이터분석, 웹페이지, GUI 프로그램, 게임)',\n",
       "  'link': 'https://search.shopping.naver.com/book/catalog/32472041705',\n",
       "  'image': 'https://shopping-phinf.pstatic.net/main_3247204/32472041705.20221019105332.jpg',\n",
       "  'author': '장문철',\n",
       "  'discount': '16920',\n",
       "  'publisher': '앤써북',\n",
       "  'pubdate': '20220228',\n",
       "  'isbn': '9791185553931',\n",
       "  'description': '이 책은 내 업무와 생활에 바로 적용할 수 있는 40개의 프로그램을 직접 코딩해서 만들어보고, 동시에 파이썬을 자연스럽게 이해할 수 있게 구성하였다!\\n\\n파이썬 기초 문법 떼고 자동화, 크롤링, 이미지처리, 데이터분석, 웹페이지, GUI 프로그램, 게임, 인공지능 관련 40개 프로그램 직접 파이썬 코딩하며 만들어 본다.  \\n\\n이 책은 파이썬 기초 문법을 익힌 후 총 40개의 주제별 프로그램을 직접 코딩하며 만들어볼 수 있도록 구성하였다.'},\n",
       " {'title': 'Do it! 알고리즘 코딩 테스트: 파이썬 편 (코딩 테스트를 처음 준비하는 취준생의 필독서!)',\n",
       "  'link': 'https://search.shopping.naver.com/book/catalog/33938438618',\n",
       "  'image': 'https://shopping-phinf.pstatic.net/main_3393843/33938438618.20230117163208.jpg',\n",
       "  'author': '김종관',\n",
       "  'discount': '28800',\n",
       "  'publisher': '이지스퍼블리싱',\n",
       "  'pubdate': '20220816',\n",
       "  'isbn': '9791163033936',\n",
       "  'description': '기출 유형 분석부터 문제 풀이 비법까지\\n코딩 테스트를 처음 준비하는 IT 기업 취준생의 필독서!\\n\\n“코딩 테스트를 제대로 준비하려면 어떤 문제를 얼마나 풀어야 할까?” 곧 코딩 테스트를 앞둔 취업 또는 이직 준비생이라면 누구나 이런 고민을 할 것이다. 《Do it! 알고리즘 코딩 테스트 - 파이썬 편》에 그 답이 있다. 네이버, 카카오, 삼성, 라인 등 주요 IT 기업의 시험에 나오는 알고리즘 내용이 모두 담겨 있어 책 한 권만으로 코딩 테스트 합격에 필요한 지식을 충분히 공부할 수 있다. 책에 수록된 알고리즘 문제 100개는 모두 최신 기출 유형을 반영하고 있어서 이 책의 문제만 다 풀면 당장 코딩 테스트를 볼 수 있는 수준까지 실력을 갖출 수 있다. 모든 문제는 ‘분석, 전략, 슈도코드, 코드 구현’까지 총 4단계를 거쳐 푸는데, 이렇게 문제를 푸는 습관까지 자기 것으로 만든다면 진짜 시험에서 어떤 문제를 만나든 실수 없이 해결할 수 있을 것이다.'}]"
      ]
     },
     "execution_count": 19,
     "metadata": {},
     "output_type": "execute_result"
    }
   ],
   "source": [
    "result['items']"
   ]
  },
  {
   "cell_type": "code",
   "execution_count": 20,
   "id": "6d057b61-5731-4653-b462-f0e47ff16414",
   "metadata": {},
   "outputs": [
    {
     "data": {
      "text/plain": [
       "3"
      ]
     },
     "execution_count": 20,
     "metadata": {},
     "output_type": "execute_result"
    }
   ],
   "source": [
    "len(result['items'])"
   ]
  },
  {
   "cell_type": "code",
   "execution_count": 21,
   "id": "882429ab-8cb7-4716-b030-5ba4c00c7a39",
   "metadata": {},
   "outputs": [
    {
     "data": {
      "text/plain": [
       "{'title': '혼자 공부하는 파이썬 (1:1 과외하듯 배우는 프로그래밍 자습서)',\n",
       " 'link': 'https://search.shopping.naver.com/book/catalog/32507605957',\n",
       " 'image': 'https://shopping-phinf.pstatic.net/main_3250760/32507605957.20221019133018.jpg',\n",
       " 'author': '윤인성',\n",
       " 'discount': '19800',\n",
       " 'publisher': '한빛미디어',\n",
       " 'pubdate': '20220601',\n",
       " 'isbn': '9791162245651',\n",
       " 'description': '『혼자 공부하는 파이썬』이 더욱 흥미있고 알찬 내용으로 개정되었습니다. 프로그래밍이 정말 처음인 입문자도 따라갈 수 있는 친절한 설명과 단계별 학습은 그대로! 혼자 공부하더라도 체계적으로 계획을 세워 학습할 수 있도록 ‘혼공 계획표’를 새롭게 추가했습니다. 또한 입문자가 자주 물어보는 질문과 오류 해결 방법을 적재적소에 배치하여 예상치 못한 문제에 부딪혀도 좌절하지 않고 끝까지 완독할 수 있도록 도와줍니다. 단순한 문법 암기와 코딩 따라하기에 지쳤다면, 새로운 혼공파와 함께 ‘누적 예제’와 ‘도전 문제’로 프로그래밍의 신세계를 경험해 보세요! 배운 내용을 씹고 뜯고 맛보고 즐기다 보면 응용력은 물론 알고리즘 사고력까지 키워 코딩 실력이 쑥쑥 성장할 것입니다.\\n\\n혼자 해도 충분하다! 1:1 과외하듯 배우는 파이썬 프로그래밍 자습서\\n이 책은 독학으로 파이썬을 배우는 입문자가 ‘꼭 필요한 내용을 제대로 학습’할 수 있도록 구성했습니다. 뭘 모르는지조차 모르는 입문자의 막연한 마음에 십분 공감하여 과외 선생님이 알려주듯 친절하게, 핵심적인 내용만 콕콕 집어줍니다. 책의 첫 페이지를 펼쳐서 마지막 페이지를 덮을 때까지, 혼자서도 충분히 파이썬을 배울 수 있다는 자신감과 확신이 계속될 것입니다!\\n\\n베타리더 검증으로, ‘함께 만든’ 입문자 맞춤형 도서\\n베타리더와 함께 입문자에게 맞는 난이도, 분량, 학습 요소 등을 적극 반영했습니다. 어려운 용어와 개념은 한 번 더 풀어쓰고, 복잡한 설명은 눈에 잘 들어오는 그림으로 풀어냈습니다. ‘혼자 공부해 본’ 여러 입문자의 초심과 눈높이가 책 곳곳에 반영된 것이 이 책의 가장 큰 장점입니다.'}"
      ]
     },
     "execution_count": 21,
     "metadata": {},
     "output_type": "execute_result"
    }
   ],
   "source": [
    "result['items'][0]"
   ]
  },
  {
   "cell_type": "code",
   "execution_count": 22,
   "id": "f018a446-23d9-4133-baa8-05c1080c8a35",
   "metadata": {},
   "outputs": [
    {
     "data": {
      "text/plain": [
       "['혼자 공부하는 파이썬 (1:1 과외하듯 배우는 프로그래밍 자습서)',\n",
       " '파이썬과 40개의 작품들 (자동화, 크롤링, 이미지처리, 데이터분석, 웹페이지, GUI 프로그램, 게임)',\n",
       " 'Do it! 알고리즘 코딩 테스트: 파이썬 편 (코딩 테스트를 처음 준비하는 취준생의 필독서!)']"
      ]
     },
     "execution_count": 22,
     "metadata": {},
     "output_type": "execute_result"
    }
   ],
   "source": [
    "titles = [result['items'][n]['title'] for n in range(3)]\n",
    "titles"
   ]
  },
  {
   "cell_type": "code",
   "execution_count": 23,
   "id": "f179efd4-c97d-40a5-b8a6-54c3d00fb0e6",
   "metadata": {},
   "outputs": [
    {
     "data": {
      "text/plain": [
       "['윤인성', '장문철', '김종관']"
      ]
     },
     "execution_count": 23,
     "metadata": {},
     "output_type": "execute_result"
    }
   ],
   "source": [
    "authors = [result['items'][n]['author'] for n in range(3)]\n",
    "authors"
   ]
  },
  {
   "cell_type": "code",
   "execution_count": 24,
   "id": "76bba194-8340-415b-87b6-43e3a36fa614",
   "metadata": {},
   "outputs": [
    {
     "data": {
      "text/plain": [
       "['20220601', '20220228', '20220816']"
      ]
     },
     "execution_count": 24,
     "metadata": {},
     "output_type": "execute_result"
    }
   ],
   "source": [
    "pubdates = [result['items'][n]['pubdate'] for n in range(3)]\n",
    "pubdates"
   ]
  },
  {
   "cell_type": "code",
   "execution_count": 25,
   "id": "b7ffdb1c-ce68-4716-8ba6-ed267054356e",
   "metadata": {},
   "outputs": [
    {
     "data": {
      "text/html": [
       "<div>\n",
       "<style scoped>\n",
       "    .dataframe tbody tr th:only-of-type {\n",
       "        vertical-align: middle;\n",
       "    }\n",
       "\n",
       "    .dataframe tbody tr th {\n",
       "        vertical-align: top;\n",
       "    }\n",
       "\n",
       "    .dataframe thead th {\n",
       "        text-align: right;\n",
       "    }\n",
       "</style>\n",
       "<table border=\"1\" class=\"dataframe\">\n",
       "  <thead>\n",
       "    <tr style=\"text-align: right;\">\n",
       "      <th></th>\n",
       "      <th>책제목</th>\n",
       "      <th>작가</th>\n",
       "      <th>출판일</th>\n",
       "    </tr>\n",
       "  </thead>\n",
       "  <tbody>\n",
       "    <tr>\n",
       "      <th>0</th>\n",
       "      <td>혼자 공부하는 파이썬 (1:1 과외하듯 배우는 프로그래밍 자습서)</td>\n",
       "      <td>윤인성</td>\n",
       "      <td>20220601</td>\n",
       "    </tr>\n",
       "    <tr>\n",
       "      <th>1</th>\n",
       "      <td>파이썬과 40개의 작품들 (자동화, 크롤링, 이미지처리, 데이터분석, 웹페이지, G...</td>\n",
       "      <td>장문철</td>\n",
       "      <td>20220228</td>\n",
       "    </tr>\n",
       "    <tr>\n",
       "      <th>2</th>\n",
       "      <td>Do it! 알고리즘 코딩 테스트: 파이썬 편 (코딩 테스트를 처음 준비하는 취준생...</td>\n",
       "      <td>김종관</td>\n",
       "      <td>20220816</td>\n",
       "    </tr>\n",
       "  </tbody>\n",
       "</table>\n",
       "</div>"
      ],
      "text/plain": [
       "                                                 책제목   작가       출판일\n",
       "0               혼자 공부하는 파이썬 (1:1 과외하듯 배우는 프로그래밍 자습서)  윤인성  20220601\n",
       "1  파이썬과 40개의 작품들 (자동화, 크롤링, 이미지처리, 데이터분석, 웹페이지, G...  장문철  20220228\n",
       "2  Do it! 알고리즘 코딩 테스트: 파이썬 편 (코딩 테스트를 처음 준비하는 취준생...  김종관  20220816"
      ]
     },
     "execution_count": 25,
     "metadata": {},
     "output_type": "execute_result"
    }
   ],
   "source": [
    "pd.DataFrame({'책제목': titles, '작가': authors, '출판일': pubdates})"
   ]
  },
  {
   "cell_type": "markdown",
   "id": "8101fadc-d1af-4e28-9a39-da0f3ef9eab9",
   "metadata": {},
   "source": [
    "# 책 검색해서 dataframe로 만들기 함수"
   ]
  },
  {
   "cell_type": "code",
   "execution_count": 26,
   "id": "5b5d0e95-cdf9-4175-b9b4-3e35492b1dfc",
   "metadata": {},
   "outputs": [],
   "source": [
    "# 네이버 api 를 이용한 url을 입력 받아서 도서 정보를 dataframe로 반환\n",
    "def get_dataframe(url):\n",
    "    client_id = 'REP1TZBeRylwIL5uzjqy'\n",
    "    client_secret = 'aXWw3fsfEF'\n",
    "\n",
    "    request = urllib.request.Request(url)\n",
    "    request.add_header(\"X-Naver-Client-Id\",client_id)\n",
    "    request.add_header(\"X-Naver-Client-Secret\",client_secret)\n",
    "\n",
    "    response = urllib.request.urlopen(request)\n",
    "\n",
    "    result = json.loads(response.read().decode(\"utf-8\"))\n",
    "    \n",
    "    end_num = result['display']\n",
    "    \n",
    "    titles = [result['items'][n]['title'] for n in range(end_num)]\n",
    "    authors = [result['items'][n]['author'] for n in range(end_num)]\n",
    "    pubdates = [result['items'][n]['pubdate'] for n in range(end_num)]\n",
    "    \n",
    "    return pd.DataFrame({\"책제목\": titles, \"저자\": authors, \"출판일\": pubdates})"
   ]
  },
  {
   "cell_type": "code",
   "execution_count": 27,
   "id": "69c1a701-9bb4-4c80-82af-b65078e843fc",
   "metadata": {},
   "outputs": [
    {
     "data": {
      "text/html": [
       "<div>\n",
       "<style scoped>\n",
       "    .dataframe tbody tr th:only-of-type {\n",
       "        vertical-align: middle;\n",
       "    }\n",
       "\n",
       "    .dataframe tbody tr th {\n",
       "        vertical-align: top;\n",
       "    }\n",
       "\n",
       "    .dataframe thead th {\n",
       "        text-align: right;\n",
       "    }\n",
       "</style>\n",
       "<table border=\"1\" class=\"dataframe\">\n",
       "  <thead>\n",
       "    <tr style=\"text-align: right;\">\n",
       "      <th></th>\n",
       "      <th>책제목</th>\n",
       "      <th>저자</th>\n",
       "      <th>출판일</th>\n",
       "    </tr>\n",
       "  </thead>\n",
       "  <tbody>\n",
       "    <tr>\n",
       "      <th>0</th>\n",
       "      <td>혼자 공부하는 파이썬 (1:1 과외하듯 배우는 프로그래밍 자습서)</td>\n",
       "      <td>윤인성</td>\n",
       "      <td>20220601</td>\n",
       "    </tr>\n",
       "    <tr>\n",
       "      <th>1</th>\n",
       "      <td>파이썬과 40개의 작품들 (자동화, 크롤링, 이미지처리, 데이터분석, 웹페이지, G...</td>\n",
       "      <td>장문철</td>\n",
       "      <td>20220228</td>\n",
       "    </tr>\n",
       "    <tr>\n",
       "      <th>2</th>\n",
       "      <td>Do it! 알고리즘 코딩 테스트: 파이썬 편 (코딩 테스트를 처음 준비하는 취준생...</td>\n",
       "      <td>김종관</td>\n",
       "      <td>20220816</td>\n",
       "    </tr>\n",
       "  </tbody>\n",
       "</table>\n",
       "</div>"
      ],
      "text/plain": [
       "                                                 책제목   저자       출판일\n",
       "0               혼자 공부하는 파이썬 (1:1 과외하듯 배우는 프로그래밍 자습서)  윤인성  20220601\n",
       "1  파이썬과 40개의 작품들 (자동화, 크롤링, 이미지처리, 데이터분석, 웹페이지, G...  장문철  20220228\n",
       "2  Do it! 알고리즘 코딩 테스트: 파이썬 편 (코딩 테스트를 처음 준비하는 취준생...  김종관  20220816"
      ]
     },
     "execution_count": 27,
     "metadata": {},
     "output_type": "execute_result"
    }
   ],
   "source": [
    "get_dataframe(url)"
   ]
  },
  {
   "cell_type": "code",
   "execution_count": 28,
   "id": "36aa00da-a0a0-4436-b352-1d5aeb4a4a1d",
   "metadata": {},
   "outputs": [],
   "source": [
    "def delete_tag(input_str):\n",
    "    input_str = input_str.replace('<b>','')\n",
    "    input_str = input_str.replace('</b>','')\n",
    "    return input_str"
   ]
  },
  {
   "cell_type": "markdown",
   "id": "bc3307ff-0e7b-48f0-a54e-bdcafbe7456b",
   "metadata": {},
   "source": [
    "# 책 검색해서 dataframe로 만들기 함수(완성형)"
   ]
  },
  {
   "cell_type": "code",
   "execution_count": 29,
   "id": "ac7d587f-08b4-4771-b7ab-7f6853ca72a9",
   "metadata": {},
   "outputs": [],
   "source": [
    "def get_dataframe(url):\n",
    "    client_id = 'REP1TZBeRylwIL5uzjqy'\n",
    "    client_secret = 'aXWw3fsfEF'\n",
    "\n",
    "    request = urllib.request.Request(url)\n",
    "    request.add_header(\"X-Naver-Client-Id\",client_id)\n",
    "    request.add_header(\"X-Naver-Client-Secret\",client_secret)\n",
    "\n",
    "    response = urllib.request.urlopen(request)\n",
    "\n",
    "    result = json.loads(response.read().decode(\"utf-8\"))\n",
    "    \n",
    "    end_num = result['display']\n",
    "    \n",
    "    titles = [delete_tag(result['items'][n]['title']) for n in range(end_num)]\n",
    "    authors = [result['items'][n]['author'] for n in range(end_num)]\n",
    "    pubdates = [result['items'][n]['pubdate'] for n in range(end_num)]\n",
    "    \n",
    "    return pd.DataFrame({\"책제목\": titles, \"저자\": authors, \"출판일\": pubdates})"
   ]
  },
  {
   "cell_type": "code",
   "execution_count": 30,
   "id": "22106dfb-9ac3-4c0a-8654-ddd28f6366bf",
   "metadata": {},
   "outputs": [
    {
     "data": {
      "text/html": [
       "<div>\n",
       "<style scoped>\n",
       "    .dataframe tbody tr th:only-of-type {\n",
       "        vertical-align: middle;\n",
       "    }\n",
       "\n",
       "    .dataframe tbody tr th {\n",
       "        vertical-align: top;\n",
       "    }\n",
       "\n",
       "    .dataframe thead th {\n",
       "        text-align: right;\n",
       "    }\n",
       "</style>\n",
       "<table border=\"1\" class=\"dataframe\">\n",
       "  <thead>\n",
       "    <tr style=\"text-align: right;\">\n",
       "      <th></th>\n",
       "      <th>책제목</th>\n",
       "      <th>저자</th>\n",
       "      <th>출판일</th>\n",
       "    </tr>\n",
       "  </thead>\n",
       "  <tbody>\n",
       "    <tr>\n",
       "      <th>0</th>\n",
       "      <td>혼자 공부하는 파이썬 (1:1 과외하듯 배우는 프로그래밍 자습서)</td>\n",
       "      <td>윤인성</td>\n",
       "      <td>20220601</td>\n",
       "    </tr>\n",
       "    <tr>\n",
       "      <th>1</th>\n",
       "      <td>파이썬과 40개의 작품들 (자동화, 크롤링, 이미지처리, 데이터분석, 웹페이지, G...</td>\n",
       "      <td>장문철</td>\n",
       "      <td>20220228</td>\n",
       "    </tr>\n",
       "    <tr>\n",
       "      <th>2</th>\n",
       "      <td>Do it! 알고리즘 코딩 테스트: 파이썬 편 (코딩 테스트를 처음 준비하는 취준생...</td>\n",
       "      <td>김종관</td>\n",
       "      <td>20220816</td>\n",
       "    </tr>\n",
       "  </tbody>\n",
       "</table>\n",
       "</div>"
      ],
      "text/plain": [
       "                                                 책제목   저자       출판일\n",
       "0               혼자 공부하는 파이썬 (1:1 과외하듯 배우는 프로그래밍 자습서)  윤인성  20220601\n",
       "1  파이썬과 40개의 작품들 (자동화, 크롤링, 이미지처리, 데이터분석, 웹페이지, G...  장문철  20220228\n",
       "2  Do it! 알고리즘 코딩 테스트: 파이썬 편 (코딩 테스트를 처음 준비하는 취준생...  김종관  20220816"
      ]
     },
     "execution_count": 30,
     "metadata": {},
     "output_type": "execute_result"
    }
   ],
   "source": [
    "get_dataframe(url)"
   ]
  },
  {
   "cell_type": "code",
   "execution_count": 31,
   "id": "87f77f02-ee8f-4917-b4a1-02174d28e716",
   "metadata": {},
   "outputs": [
    {
     "data": {
      "text/plain": [
       "[1, 101, 201]"
      ]
     },
     "execution_count": 31,
     "metadata": {},
     "output_type": "execute_result"
    }
   ],
   "source": [
    "[n for n in range(1, 300, 100)]"
   ]
  },
  {
   "cell_type": "markdown",
   "id": "7fb4d4b5-2056-41ca-a513-148826d93120",
   "metadata": {},
   "source": [
    "# 100 개씩 300개 가져오기"
   ]
  },
  {
   "cell_type": "code",
   "execution_count": 32,
   "id": "0b64c570-fbf7-4786-84ba-566698024218",
   "metadata": {},
   "outputs": [],
   "source": [
    "result_search = []\n",
    "\n",
    "for n in range(1, 300, 100):\n",
    "    url = create_url('book', '파이썬', n, 100)\n",
    "    result_search.append(get_dataframe(url))\n",
    "\n",
    "result_search = pd.concat(result_search)  # dataframe을 병합"
   ]
  },
  {
   "cell_type": "code",
   "execution_count": 33,
   "id": "11863bad-e847-402e-85dd-d89cfc5f0bc3",
   "metadata": {},
   "outputs": [
    {
     "data": {
      "text/html": [
       "<div>\n",
       "<style scoped>\n",
       "    .dataframe tbody tr th:only-of-type {\n",
       "        vertical-align: middle;\n",
       "    }\n",
       "\n",
       "    .dataframe tbody tr th {\n",
       "        vertical-align: top;\n",
       "    }\n",
       "\n",
       "    .dataframe thead th {\n",
       "        text-align: right;\n",
       "    }\n",
       "</style>\n",
       "<table border=\"1\" class=\"dataframe\">\n",
       "  <thead>\n",
       "    <tr style=\"text-align: right;\">\n",
       "      <th></th>\n",
       "      <th>책제목</th>\n",
       "      <th>저자</th>\n",
       "      <th>출판일</th>\n",
       "    </tr>\n",
       "  </thead>\n",
       "  <tbody>\n",
       "    <tr>\n",
       "      <th>0</th>\n",
       "      <td>혼자 공부하는 파이썬 (1:1 과외하듯 배우는 프로그래밍 자습서)</td>\n",
       "      <td>윤인성</td>\n",
       "      <td>20220601</td>\n",
       "    </tr>\n",
       "    <tr>\n",
       "      <th>1</th>\n",
       "      <td>파이썬과 40개의 작품들 (자동화, 크롤링, 이미지처리, 데이터분석, 웹페이지, G...</td>\n",
       "      <td>장문철</td>\n",
       "      <td>20220228</td>\n",
       "    </tr>\n",
       "    <tr>\n",
       "      <th>2</th>\n",
       "      <td>Do it! 알고리즘 코딩 테스트: 파이썬 편 (코딩 테스트를 처음 준비하는 취준생...</td>\n",
       "      <td>김종관</td>\n",
       "      <td>20220816</td>\n",
       "    </tr>\n",
       "    <tr>\n",
       "      <th>3</th>\n",
       "      <td>모두의 파이썬 (20일 만에 배우는 프로그래밍 기초)</td>\n",
       "      <td>이승찬</td>\n",
       "      <td>20181009</td>\n",
       "    </tr>\n",
       "    <tr>\n",
       "      <th>4</th>\n",
       "      <td>파이썬 무작정 따라하기 (미래의 프로그래머를 위한)</td>\n",
       "      <td>서승희^송석리</td>\n",
       "      <td>20211220</td>\n",
       "    </tr>\n",
       "  </tbody>\n",
       "</table>\n",
       "</div>"
      ],
      "text/plain": [
       "                                                 책제목       저자       출판일\n",
       "0               혼자 공부하는 파이썬 (1:1 과외하듯 배우는 프로그래밍 자습서)      윤인성  20220601\n",
       "1  파이썬과 40개의 작품들 (자동화, 크롤링, 이미지처리, 데이터분석, 웹페이지, G...      장문철  20220228\n",
       "2  Do it! 알고리즘 코딩 테스트: 파이썬 편 (코딩 테스트를 처음 준비하는 취준생...      김종관  20220816\n",
       "3                      모두의 파이썬 (20일 만에 배우는 프로그래밍 기초)      이승찬  20181009\n",
       "4                       파이썬 무작정 따라하기 (미래의 프로그래머를 위한)  서승희^송석리  20211220"
      ]
     },
     "execution_count": 33,
     "metadata": {},
     "output_type": "execute_result"
    }
   ],
   "source": [
    "result_search.head()"
   ]
  },
  {
   "cell_type": "code",
   "execution_count": 34,
   "id": "b4109c77-6664-4148-9041-b5d491cac62c",
   "metadata": {},
   "outputs": [
    {
     "name": "stdout",
     "output_type": "stream",
     "text": [
      "<class 'pandas.core.frame.DataFrame'>\n",
      "Int64Index: 300 entries, 0 to 99\n",
      "Data columns (total 3 columns):\n",
      " #   Column  Non-Null Count  Dtype \n",
      "---  ------  --------------  ----- \n",
      " 0   책제목     300 non-null    object\n",
      " 1   저자      300 non-null    object\n",
      " 2   출판일     300 non-null    object\n",
      "dtypes: object(3)\n",
      "memory usage: 9.4+ KB\n"
     ]
    }
   ],
   "source": [
    "result_search.info()"
   ]
  },
  {
   "cell_type": "markdown",
   "id": "1f057626-7455-4543-8205-58869ea5aee3",
   "metadata": {},
   "source": [
    "* 위에 Int64Index: 300 entries, 0 to 99 에 보면 index 가 0 to 99이다. \n",
    "* 각 반복문마다 index 가 매겨져서 0~99 가 3번 있다."
   ]
  },
  {
   "cell_type": "code",
   "execution_count": 35,
   "id": "61851776-fa06-424a-bdc4-d83532fbed0f",
   "metadata": {},
   "outputs": [
    {
     "name": "stdout",
     "output_type": "stream",
     "text": [
      "<class 'pandas.core.frame.DataFrame'>\n",
      "RangeIndex: 300 entries, 0 to 299\n",
      "Data columns (total 3 columns):\n",
      " #   Column  Non-Null Count  Dtype \n",
      "---  ------  --------------  ----- \n",
      " 0   책제목     300 non-null    object\n",
      " 1   저자      300 non-null    object\n",
      " 2   출판일     300 non-null    object\n",
      "dtypes: object(3)\n",
      "memory usage: 7.2+ KB\n"
     ]
    }
   ],
   "source": [
    "# index 재정렬\n",
    "result_search = result_search.reset_index(drop=True)\n",
    "result_search.info()"
   ]
  },
  {
   "cell_type": "markdown",
   "id": "3e066a89-9a28-405f-a030-44d52ad96cc3",
   "metadata": {},
   "source": [
    "# 엑셀에 양식을 설정하여 저장하기"
   ]
  },
  {
   "cell_type": "markdown",
   "id": "868f4dba-6cad-4ed4-9b7a-deb22df1df69",
   "metadata": {},
   "source": [
    "* [xlsxwriter 사용법](https://xlsxwriter.readthedocs.io/)"
   ]
  },
  {
   "cell_type": "code",
   "execution_count": 36,
   "id": "ede23ead-564f-47f1-af4f-152022a04767",
   "metadata": {},
   "outputs": [],
   "source": [
    "# 엑셀에 양식을 설정하여 저장\n",
    "writer = pd.ExcelWriter('./data/python_book_info.xlsx', engine='xlsxwriter')\n",
    "result_search.to_excel(writer, sheet_name='Sheet1')\n",
    "\n",
    "workbook = writer.book\n",
    "worksheet = writer.sheets['Sheet1']\n",
    "\n",
    "format_center = workbook.add_format({'text_wrap': True})  # 자동 줄바꿈\n",
    "format_center.set_align('center')\n",
    "format_center.set_align('vcenter')\n",
    "\n",
    "worksheet.set_column('A:A', 5)\n",
    "worksheet.set_column('B:B', 90, format_center)\n",
    "worksheet.set_column('C:C', 40, format_center)\n",
    "worksheet.set_column('D:D', 15)\n",
    "\n",
    "writer.save()"
   ]
  },
  {
   "cell_type": "code",
   "execution_count": 37,
   "id": "3dc6a4e6-9c54-4802-8c86-fa5fbf9f597b",
   "metadata": {},
   "outputs": [],
   "source": [
    "result_search.to_excel('./data/p.xlsx', sheet_name='Sheet1')"
   ]
  },
  {
   "cell_type": "code",
   "execution_count": null,
   "id": "a14fa4aa-5850-4a94-a1e4-84069d36e6d2",
   "metadata": {},
   "outputs": [],
   "source": []
  }
 ],
 "metadata": {
  "kernelspec": {
   "display_name": "Python 3 (ipykernel)",
   "language": "python",
   "name": "python3"
  },
  "language_info": {
   "codemirror_mode": {
    "name": "ipython",
    "version": 3
   },
   "file_extension": ".py",
   "mimetype": "text/x-python",
   "name": "python",
   "nbconvert_exporter": "python",
   "pygments_lexer": "ipython3",
   "version": "3.9.13"
  }
 },
 "nbformat": 4,
 "nbformat_minor": 5
}
